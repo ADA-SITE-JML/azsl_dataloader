{
  "cells": [
    {
      "cell_type": "markdown",
      "metadata": {
        "id": "view-in-github",
        "colab_type": "text"
      },
      "source": [
        "<a href=\"https://colab.research.google.com/github/ADA-SITE-JML/azsl_dataloader/blob/main/AzSL_DataLoader.ipynb\" target=\"_parent\"><img src=\"https://colab.research.google.com/assets/colab-badge.svg\" alt=\"Open In Colab\"/></a>"
      ]
    },
    {
      "cell_type": "markdown",
      "metadata": {
        "id": "PaMOmJAf2Xn4"
      },
      "source": [
        "In this notebook, I took out the feature extractor (a pre-trained model) from the Data Loader and added it into the Encoder. The name of the notebook also holds this: *_TRansferLEarningInENCoder"
      ]
    },
    {
      "cell_type": "code",
      "execution_count": 1,
      "metadata": {
        "id": "StQdMEpvC6Vr"
      },
      "outputs": [],
      "source": [
        "import os\n",
        "import random\n",
        "import numpy as np\n",
        "import pandas as pd\n",
        "import matplotlib.pyplot as plt\n",
        "\n",
        "import torch\n",
        "from torch.utils.data import Dataset, DataLoader\n",
        "import sklearn.utils\n",
        "from sklearn.model_selection import train_test_split"
      ]
    },
    {
      "cell_type": "markdown",
      "metadata": {
        "id": "EgiZx1tgjOSw"
      },
      "source": [
        "In \"Local\"  option, the notebook shall connect to the local machine (where the  dataset is supposed to be). To connect to the CeDAR's environment run the following to start Jupyter with access:\n",
        "\n",
        "```\n",
        "jupyter notebook \\\n",
        ">   --NotebookApp.allow_origin='https://colab.research.google.com' \\\n",
        ">   --port=8888 \\\n",
        ">   --NotebookApp.port_retries=0\n",
        "```\n",
        "Then select \"Connect to a local runtime\" and put the link of notebook environment (from the console)\n",
        "\n"
      ]
    },
    {
      "cell_type": "code",
      "execution_count": 2,
      "metadata": {
        "colab": {
          "base_uri": "https://localhost:8080/"
        },
        "id": "VPdLm5R70BBM",
        "outputId": "f7a93384-76d1-40df-8d26-f0f05fcbc6ea"
      },
      "outputs": [
        {
          "output_type": "stream",
          "name": "stdout",
          "text": [
            "Running on cuda:0\n",
            "GPU number: 1\n"
          ]
        }
      ],
      "source": [
        "class Config:\n",
        "    debug = False\n",
        "    env = 'Prod' # Dev (User's GoogleDrive), Prod (AzSL GoogleDrive) or Local (local machine)\n",
        "    csv_path = ''\n",
        "    seed = 44\n",
        "    device = 'cuda:0' if torch.cuda.is_available() else 'cpu'\n",
        "    # device = 'tpu' # uncomment to switch to TPU usage\n",
        "\n",
        "    # All 3 Video processing APIs implemented. Use the one that corresponds to your code\n",
        "    video_processing_tool = 'TorchVision' # OpenCV, VidGear or TorchVision\n",
        "\n",
        "    # To have a fixed frame size\n",
        "    max_frames = 64\n",
        "    # The maximum size of the output. This and previous parameters are considered\n",
        "    # for training with the RNN and Transformer networks.\n",
        "    max_words_in_sentence = 10\n",
        "\n",
        "    video_size = 600\n",
        "\n",
        "\n",
        "    drive_folder = '/home/....' # path for the local folder\n",
        "    if (env == 'Dev'):\n",
        "      drive_folder = '/content/drive/MyDrive/SLR_test' # path to your GoogleDrive folder\n",
        "    elif (env == 'Prod'):\n",
        "      drive_folder = '/content/drive/MyDrive/SLR/Data' # path to the shared GoogleDrive folder\n",
        "\n",
        "    video_folder = drive_folder+'/Video'\n",
        "\n",
        "    train_csv_path = drive_folder+'/sentences_all.csv' # where the sentences and glosses are kept\n",
        "    camera_source = 'Cam2' # Cam1 - side-top, Cam2 - front\n",
        "    keep_hands_only = True # If true, will keep only frames with hands\n",
        "    feature_type = 'no' # 'no' (frames only), 'i3d' # or 'squeezenet'\n",
        "\n",
        "    BATCH_SIZE = 128 # updated before the training\n",
        "\n",
        "def seed_everything(seed: int):\n",
        "    random.seed(seed)\n",
        "    np.random.seed(seed)\n",
        "    torch.manual_seed(seed)\n",
        "    if torch.cuda.is_available():\n",
        "      torch.cuda.manual_seed(seed)\n",
        "\n",
        "config = Config()\n",
        "seed_everything(config.seed)\n",
        "\n",
        "print('Running on',config.device)\n",
        "\n",
        "if torch.cuda.is_available():\n",
        "    print('GPU number:',torch.cuda.device_count())"
      ]
    },
    {
      "cell_type": "markdown",
      "source": [
        "This is the TPU configuration. Since it requies some preparation, it is separated from the pre-config code."
      ],
      "metadata": {
        "id": "QZV4h8UVRuQm"
      }
    },
    {
      "cell_type": "code",
      "source": [
        "if (config.device == 'tpu'):\n",
        "  !pip install cloud-tpu-client==0.10 torch==2.0.0 torchvision==0.15.1 https://storage.googleapis.com/tpu-pytorch/wheels/colab/torch_xla-2.0-cp39-cp39-linux_x86_64.whl\n",
        "\n",
        "  import torch_xla\n",
        "  import torch_xla.core.xla_model as xm\n",
        "\n",
        "\n",
        "  dev = xm.xla_device()\n",
        "  t1 = torch.ones(3, 3, device = dev)\n",
        "  print(t1)\n",
        "  config.device = dev"
      ],
      "metadata": {
        "id": "44jGu0Aboz6b"
      },
      "execution_count": 3,
      "outputs": []
    },
    {
      "cell_type": "code",
      "execution_count": 4,
      "metadata": {
        "colab": {
          "base_uri": "https://localhost:8080/"
        },
        "id": "fbEkMcdhlL26",
        "outputId": "99b15037-cd2f-4611-e20d-a159d67c38fa"
      },
      "outputs": [
        {
          "output_type": "stream",
          "name": "stdout",
          "text": [
            "Drive already mounted at /content/drive; to attempt to forcibly remount, call drive.mount(\"/content/drive\", force_remount=True).\n"
          ]
        }
      ],
      "source": [
        "if (config.env != 'Local'):\n",
        "  from google.colab import drive\n",
        "  drive.mount('/content/drive')"
      ]
    },
    {
      "cell_type": "code",
      "execution_count": 5,
      "metadata": {
        "id": "7PFKq2YWcT4P"
      },
      "outputs": [],
      "source": [
        "import sys\n",
        "import subprocess\n",
        "\n",
        "def pip_install(package):\n",
        "  subprocess.check_call([sys.executable, '-m', 'pip', 'install',package])"
      ]
    },
    {
      "cell_type": "code",
      "execution_count": 6,
      "metadata": {
        "id": "4439XWPCpzN4"
      },
      "outputs": [],
      "source": [
        "pip_install('mediapipe')\n",
        "\n",
        "# https://github.com/jbohnslav/opencv_transforms\n",
        "pip_install('opencv_transforms')\n",
        "\n",
        "if config.video_processing_tool == 'VidGear':\n",
        "  pip_install('vidgear[core]')"
      ]
    },
    {
      "cell_type": "code",
      "source": [
        "# The video data could be provided as fames or features (i3d or pretrained model)\n",
        "# The code is take from here: https://colab.research.google.com/drive/1LKoytZmNxtC-EuCp7pHDM6sFvK1XdwlW\n",
        "if config.feature_type == 'i3d':\n",
        "  # For I3D features\n",
        "  !git clone https://github.com/v-iashin/video_features.git\n",
        "  !pip install omegaconf==2.0.6\n",
        "\n",
        "  %cd video_features\n",
        "\n",
        "  from models.i3d.extract_i3d import ExtractI3D\n",
        "  from models.raft.raft_src.raft import RAFT, InputPadder\n",
        "  from utils.utils import build_cfg_path\n",
        "  from omegaconf import OmegaConf\n",
        "\n",
        "  # Load and patch the config\n",
        "  args = OmegaConf.load(build_cfg_path(config.feature_type))\n",
        "  # args.show_pred = True\n",
        "  # args.stack_size = 24\n",
        "  # args.step_size = 24\n",
        "  # args.extraction_fps = 30\n",
        "  args.flow_type = 'raft' # 'pwc' is not supported on Google Colab (cupy version mismatch)\n",
        "  # args.streams = 'flow'\n",
        "\n",
        "  # Load the model\n",
        "  extractor = ExtractI3D(args)\n",
        "elif config.feature_type == 'squeezenet':\n",
        "  from torchvision.models import squeezenet1_1\n",
        "  from torchvision.models.feature_extraction import create_feature_extractor\n",
        "\n",
        "  model = squeezenet1_1(pretrained=True).to(config.device)\n",
        "  return_nodes = {\n",
        "        'features.12.cat': 'layer12'\n",
        "        }\n",
        "  pretrained_model = create_feature_extractor(model, return_nodes=return_nodes).to(config.device)\n",
        "  pretrained_model.eval()\n",
        "\n",
        "def frame_to_feats(pretrained_model, frames):\n",
        "  features = pretrained_model(frames.squeeze())['layer12'].to(device=config.device)\n",
        "  feat_shape = features.shape\n",
        "  print('Squeezenet shape',feat_shape)\n",
        "  feat_flat =  torch.reshape(features,(feat_shape[0],feat_shape[1]*feat_shape[2]*feat_shape[3])).to(device=config.device)\n",
        "  return feat_flat"
      ],
      "metadata": {
        "id": "01op-S3rqeLB",
        "outputId": "3a9b3214-d864-466c-eb69-12499ddf7ece",
        "colab": {
          "base_uri": "https://localhost:8080/"
        }
      },
      "execution_count": 7,
      "outputs": [
        {
          "output_type": "stream",
          "name": "stderr",
          "text": [
            "/usr/local/lib/python3.10/dist-packages/torchvision/models/_utils.py:208: UserWarning: The parameter 'pretrained' is deprecated since 0.13 and may be removed in the future, please use 'weights' instead.\n",
            "  warnings.warn(\n",
            "/usr/local/lib/python3.10/dist-packages/torchvision/models/_utils.py:223: UserWarning: Arguments other than a weight enum or `None` for 'weights' are deprecated since 0.13 and may be removed in the future. The current behavior is equivalent to passing `weights=SqueezeNet1_1_Weights.IMAGENET1K_V1`. You can also use `weights=SqueezeNet1_1_Weights.DEFAULT` to get the most up-to-date weights.\n",
            "  warnings.warn(msg)\n"
          ]
        }
      ]
    },
    {
      "cell_type": "code",
      "execution_count": 8,
      "metadata": {
        "id": "Qr8VkJpS2Blo",
        "outputId": "d7950ae4-5e9b-407b-8be3-7e7a997ad561",
        "colab": {
          "base_uri": "https://localhost:8080/"
        }
      },
      "outputs": [
        {
          "output_type": "stream",
          "name": "stdout",
          "text": [
            "Unique words ['\"dolu\"', '%', ',', '1', '1-2', '10', '100', '103', '11:15', '12', '12:30', '14', '15', '1979', '2', '2015', '2018', '2019', '2022', '23', '24', '28', '29', '3', '4', '40', '43', '5', '6', '65', '67', '7', '8', '?', 'EOS', 'SOS', 'a-d-a', 'a-d-a-s-i', 'a-s-i̇-f', 'abşeron', 'ac', 'acı', 'acılıq', 'acımaq', 'ad', 'adam', 'adamlar', 'administrator', 'ailə', 'alaq', 'aldatmamaq', 'aldatmaq', 'aldığın', 'alergiya', 'alma', 'almaniya', 'almaq', 'altında', 'alıb', 'alınacaq', 'aləm', 'amerika', 'amma', 'ana', 'anam', 'ani', 'anlamamaq,', 'anlamaq', 'aparat', 'aparmaq', 'aprel', 'arayış', 'araşdırılır', 'artist', 'artmaq', 'artıq', 'artırmaq', 'arxanca', 'asan', 'asma', 'asmaq', 'asvalt', 'ata', 'atam', 'atmaq', 'avtobus', 'avtomobil', 'avtomobiı', 'axsamaq', 'axtarmaq', 'axşam', 'ay', 'ayaq', 'ayaqqabı', 'ayaqyolu', 'aygül', 'ayı', 'ayın', 'az', 'azərbaycan', 'açmaq', 'açmaq,', 'açılmaq', 'açıq', 'ağlamaq', 'ağlım', 'ağlında', 'ağrı', 'ağrımaq', 'ağrıyır', 'ağıllı', 'ağır', 'aşağı', 'baba', 'bacarmadım', 'bacarmaq', 'bacarıq', 'bacı', 'baha', 'bakı', 'balaca', 'balıq', 'bank', 'barədə', 'barəsində', 'batareyası', 'batarya', 'bax', 'baxmamaq', 'baxmaq', 'bayaqdan', 'bayram', 'bayrağ', 'bazar', 'bağda', 'bağlamaq', 'bağlı', 'bağışlamaq', 'baş', 'başa', 'başladı', 'başlamaq', 'başqa', 'başqası', 'bel', 'belə', 'bezmək', 'bilet', 'bilir', 'bilirsən', 'bilmir', 'bilmədən', 'bilmək', 'bilməmək', 'bilər', 'bina', 'bir', 'biraz', 'birdəfə', 'birinci', 'birisigün', 'birlikdə', 'bitib', 'bitirmək', 'bitki', 'bitmək', 'biz', 'bizim', 'bişirmək', 'blok', 'boks', 'borc', 'boğaz', 'boş', 'boşalmaq', 'boşanmaq', 'boşuna', 'brazilya', 'brend', 'bridəfə', 'bu', 'bu,', 'bulvar', 'bunu', 'bura', 'burda', 'burdan', 'burun', 'butun', 'böyük', 'bütün', 'bıcaq', 'bədən', 'bəli,', 'bələd', 'bənövşəyi', 'bərabər', 'bərbər', 'bəyənmək', 'bəyənmək,', 'canavar', 'cavab', 'covid', 'cümə', 'cür', 'cəza', 'd-ə-f-i̇-n-ə-l-ə-r', 'd-ə-l-i̇', 'dadlı', 'daima', 'daimi', 'dammaq', 'danışmaq', 'darıxmaq', 'darıxmışam', 'dava', 'davam', 'daxilində', 'dayanmaq', 'dayımgil', 'de', 'dediklərim', 'dediklərin', 'dediklərini', 'dediyim', 'demək', 'deməmək', 'ders', 'deyil', 'deyil,', 'dil', 'diplom', 'diqqətlə', 'dizayner', 'diş', 'dollar', 'dolmaq', 'dondurma', 'dost', 'dostum', 'doğmaq', 'doğulmaq', 'dtx', 'duman', 'durmaq', 'dövlət', 'dövr', 'dülgər', 'dünya', 'dünən', 'düz', 'düzgün', 'düzəltmək', 'düşmür', 'düşmək', 'düşmən', 'düşüncə', 'dəfn', 'dəfə', 'dəhşət', 'dəli', 'dəniz', 'dənə', 'dəqiq', 'dəqiqə', 'dərman', 'dərs', 'dəstəkləmək', 'dəvət', 'dəyişmək', 'dəymək', 'edib', 'edə', 'edənlər', 'ehtiyyac', 'ehtiyyatlı', 'elektron', 'elmlər', 'endirim', 'et', 'etdikləri', 'etdiklərin', 'etdikərinə', 'etibarnamə', 'etmək', 'etməmək', 'ev', 'evdə', 'evə', 'eynisi', 'eynək', 'eşitmə', 'eşitmək', 'facebook', 'faliyyət', 'fanat', 'fanatınız', 'faydalı', 'fikir', 'fikirləşmək,', 'film', 'fond', 'forma', 'fotoqraf', 'fransa', 'futbol', 'fərqli', 'gec', 'gecikmək', 'gecikməmək', 'gecikə', 'geniş', 'getmişkən', 'getmək', 'geyim', 'geyinmək', 'girmək', 'gizli', 'gizlincə', 'gizlətmək', 'göndərdiklərin', 'göndərmək', 'gördün', 'görmüşəm', 'görmək', 'görməmək', 'görüm', 'görünmək', 'görüntü', 'görüş', 'görüşmək', 'görüşəndə', 'görə', 'göstərmək', 'götür', 'götürmək', 'götürülmək', 'göy', 'göz', 'gözləmək', 'gözümlə', 'gözəl', 'güc', 'güclü', 'gül', 'gülməli', 'güləş', 'gün', 'günahkar', 'günorta', 'günü', 'günüm', 'günəş', 'güzgü', 'gəlmə', 'gəlmək', 'gəlməmək', 'gəlməsin', 'gələcək', 'gəmi', 'gəncə', 'gətirmək', 'gəzmək', 'hadisə', 'hal', 'halal', 'hamı', 'hansi', 'hansı', 'haqqında', 'hara', 'harda', 'hardan', 'hava', 'hazırlamaq', 'hesablamaq', 'heyif', 'heyvan', 'heç', 'hiss', 'höküm', 'hörmət', 'hündür', 'hüquq', 'hədiyyə', 'həftə', 'həkim', 'həlimə', 'həll', 'hələ', 'həmin', 'həmişə', 'hər', 'hərbi', 'hərdən', 'həvəs', 'həyat', 'həyət', 'icbari', 'idman', 'ifa', 'ifadə', 'iki', 'ikinci', 'il', 'ilk', 'imiş', 'imkan', 'imtahan', 'inciklik', 'incimək', 'incitmək', 'indi', 'insan', 'insana', 'instagram', 'internet', 'irgənmək', 'irəliləmək', 'isti', 'istifadə', 'istiqamət', 'istirahət', 'istəmir', 'istəmək', 'istəməmək', 'istənilən', 'istəsən', 'istəyir', 'it', 'itirmək', 'ixtisas', 'iz', 'izah', 'izləmək', 'içimi', 'içmək', 'iş', 'işarə', 'işarət', 'işləmir', 'işləmək', 'iştirak', 'işçi', 'işçiləri', 'işıq', 'i̇ki', 'i̇mtahan', 'i̇mtina', 'i̇ncimə,', 'i̇ndi', 'i̇nternet', 'i̇tmək', 'i̇yun', 'i̇çimdə', 'i̇çərişəhər', 'i̇ş', 'i̇şarət', 'i̇şıq', 'jest', 'jestdili.az', 'k-ü-r', 'kapital', 'karopka', 'kart', 'kasib', 'kağız', 'keyfiyyətsiz', 'keçmiş', 'keçmişdə', 'keçmək', 'ki,', 'kim', 'kimi', 'kimlər', 'kirli', 'kitab', 'kod', 'kofe', 'komanda', 'komissiya', 'kompyuter', 'kompüter', 'kondisoner', 'kontur', 'kopiya', 'kostyum,', 'koxlear', 'kq', 'kral', 'kubok', 'kurs', 'köcüb', 'köcürdüm', 'kömək', 'könül', 'könüllü', 'körpə', 'köynək', 'köçürmək', 'külək', 'kənd', 'kəs', 'kəsilmək', 'kəsmək', 'lahiyə', 'lal', 'lazım', 'limit', 'lovğalanmaq', 'lənkaran', 'ləqəb', 'ləğv', 'm-ə-h-ə-r-r-ə-m-o-v', 'maaş', 'mafia', 'mafiya', 'mahnı', 'manat', 'mane', 'maraq', 'maraqlı', 'market', 'mavi', 'mavi,', 'may', 'maşın', 'mebel', 'mehriban', 'mesaj', 'messi', 'metro', 'meyvə', 'meşə', 'min', 'minnətdar', 'mitinq', 'mobil', 'model', 'motor', 'muzey', 'müalicə', 'mübarizə', 'müdafiə', 'müddət', 'müddətli', 'müharibə', 'mühavizə', 'müqavilə', 'müraciət', 'müvəqqəti', 'müxtəlif', 'müəllim', 'müəyyən', 'məcbur', 'mədəni', 'məhdud', 'məhkəmə', 'məktub', 'məktəb', 'məlumat', 'mən', 'mənası', 'məndədir', 'məni', 'mənim', 'məntiq', 'mənə', 'məqsəd', 'mərkəz', 'məsləhət', 'məsələ', 'məsələn', 'mətbəx', 'məyus', 'məzuniyyət', 'məşğul', 'məşğulluq', 'nail', 'narahat', 'natarus', 'nazirlik', 'necə', 'neçə', 'neçəyə', 'niyə', 'normal', 'notarius', 'nömrə', 'növbə', 'növbəti', 'nə', 'nədir', 'nəfər', 'nənə', 'nərimanov', 'nəvə', 'nəyəsə', 'nəzarət', 'o', 'o,', 'ofis', 'ol', 'olacaq', 'olacaq,', 'olan', 'olar', 'olar,', 'olduğu', 'olduğunu', 'olma', 'olmalı', 'olmamaq', 'olmaq', 'olmaq,', 'olmasa', 'olmayacaq', 'olub', 'olur', 'ona', 'ondan', 'onlar', 'onlayn', 'onu', 'onun', 'onunla', 'onıayn', 'ora', 'orda', 'otaq', 'otur', 'oturmaq', 'oxudum', 'oxumaq', 'oxşamaq', 'oyanmaq', 'oynamaq', 'oğlum', 'oğul', 'oğurlamaq', 'oğurluq', 'paltar', 'parol', 'partlayış', 'pasport', 'paytaxt', 'pensiya', 'peşə', 'peşəkar', 'piano', 'pis', 'pis,', 'pisxoloq', 'pivə', 'piyada', 'pişik', 'plomb', 'plomblatdırmaq', 'poliknikaya', 'polis', 'pozmaq', 'prarol', 'problem', 'profesional', 'proqram', 'proses', 'protez', 'pul', 'pulsuz', 'pəncərə', 'pərt', 'qab', 'qadın', 'qalmamaq', 'qalmaq', 'qalmışdı', 'qalstuk', 'qalxmaq', 'qalır', 'qan', 'qanun', 'qanunsuz', 'qapı', 'qar', 'qara', 'qarabağ', 'qaralamaq', 'qaranlıq', 'qardaş', 'qarışdı', 'qarşı', 'qarşılaşmaq,', 'qatar', 'qayda', 'qaytarmaq', 'qayınanan', 'qayınatam', 'qaz', 'qazanmaq', 'qazax', 'qaçmaq', 'qeyd', 'qeydiyyat', 'qiymət', 'qizil', 'qoca', 'qohum', 'qol', 'qonaq', 'qonşu', 'qorumaq', 'qorxmamaq', 'qorxmaq', 'qovulmaq', 'qoxu', 'qoy', 'qoşulmaq', 'qrafik', 'qrip', 'qrup', 'qucaqlaşmaq', 'qulaq', 'qulağ', 'qurtuldum', 'qurup', 'qutarmaq', 'qırağa', 'qırmızı', 'qırılmaq', 'qız', 'qızm', 'qızıl', 'qızım', 'qış', 'qəbul', 'qəbələyə', 'qədim', 'qədər', 'qəfil', 'qələm', 'qəpik', 'qəribə', 'qəza', 'qəşəng', 'r?', 'radar', 'rahat', 'rayon', 'razmer', 'razı', 'restoran', 'riyaziyyat', 'rus', 'rusiya', 'russiya', 'rüşvət', 'rədd', 'rəng', 'rəqqas', 'rəsm', 'rəssam', 'saat', 'sabah', 'sabun', 'sadə', 'sahil', 'sakit', 'salam', 'salmaq', 'sancılmaq', 'satıcı', 'satır', 'saxla', 'saxlamaq', 'saxta', 'say', 'sayt', 'sayılmır', 'saç', 'sağ', 'sağlam', 'sağlamlıq', 'sep', 'serial', 'sevinmək', 'sevirəm', 'sevmir', 'sevmirəm', 'sevmək', 'seçim', 'sifariş', 'sinir', 'siqaret', 'sirr', 'sistem', 'siyahı', 'siz', 'sizi', 'sizə', 'sonra', 'soruşma', 'soruşmaq', 'sos', 'sosial', 'sosisal', 'soyuq', 'soğan', 'staj', 'stol', 'stəkan', 'su', 'sual', 'subay', 'sumqayıt', 'sup', 'surdotərcümə', 'sus', 'söhbət', 'söndurmək', 'söz', 'sözləşmək', 'sözü', 'sübut', 'sürmək', 'sürücü', 'sürət', 'sürətli', 'sınmaq', 'sınmış', 'sırağagün', 'sıxlıq', 'sığorta', 'səbəb', 'sədərək', 'səhv', 'səhər', 'səliqəli', 'sən', 'səni', 'sənin', 'sənlə', 'sənəd', 'sərbəst', 'sərgi', 'sərin', 'səs', 'sətəlcəm', 'səyahet', 'səyahət', 'taksi', 'tamamilə', 'tamamlamaq', 'tanımamaq', 'tanımaq', 'tanış', 'tapmaq', 'tapşırıq', 'tarix', 'taxmaq', 'taxtı', 'telefon', 'televizor', 'tez', 'tibb', 'tibbi', 'ticarət', 'torba', 'toy', 'tunel', 'turba', 'tutdu', 'tutmaq', 'türkiyə', 'təbrik', 'təcrübə', 'tədbir', 'təhlükəli', 'təhqir', 'təhsil', 'tək', 'təkrar-təkrar', 'təkrarlamaq', 'təkər', 'tələb', 'tələbə', 'tələsmək', 'tələsmək,', 'təmir', 'təmiz', 'tərcümə', 'tərəf', 'təsdiq', 'təxmini', 'təyin', 'təyyarə', 'təziq', 'təşəkkür', 'uca', 'ucuz', 'univeristetində', 'universitet', 'universtet', 'unutmaq', 'usta', 'uyğun', 'uzaq', 'uzaqlaşmaq', 'uzatmaq', 'uzun', 'uğur', 'uşaq', 'uşaqlar', 'uşaqlıqdan', 'uşağ', 'va', 'vaksin', 'valehedici', 'var', 'var,', 'var?', 'vaxt', 'ver', 'vermek', 'vermək', 'verəcək', 'video', 'viza', 'voen', 'vurma', 'vurmaq', 'və', 'vəkil', 'vəsiqə', 'vəzifə', 'vəziyyət', 'wifi', 'xahiş', 'xarab', 'xarici', 'xasiyyət', 'xasiyyəti', 'xatirə', 'xatırladım,', 'xatırlamaq?', 'xeyir', 'xeyri', 'xoşbəxt', 'xoşlamaq', 'xoşum', 'xoşuma', 'xırda', 'xəbər', 'xəste', 'xəstə', 'xətrinə', 'xəyal', 'yad', 'yadımda', 'yalan', 'yandırmaq', 'yanmaq', 'yanımda', 'yanında', 'yanıqlı', 'yara', 'yaralanmaq', 'yaralı', 'yardim', 'yardım', 'yarımçıq', 'yarış', 'yarışma', 'yasamal', 'yatmaq', 'yaxalamaq', 'yaxın', 'yaxşı', 'yaxşı,', 'yaxşısı', 'yay', 'yazmaq', 'yazmaq-oxumaq', 'yazı', 'yazılmaq', 'yazıq', 'yağ', 'yağmaq', 'yaırsı', 'yaş', 'yaşamaq', 'yaşayır', 'yaşıl', 'yedizdirmək', 'yemir', 'yemək', 'yeni', 'yenə', 'yer', 'yerə', 'yod', 'yol', 'yoldaş', 'yoldaşım', 'yoldaşından', 'yolka', 'yorulmaq', 'youtube', 'yox', 'yoxdur', 'yoxlama', 'yoxlamaq', 'yoxsa', 'yubandı', 'yumaq', 'yumulur', 'yuxu', 'yükləmək', 'yüksək', 'yığmaq', 'yığışdırmaq', 'yığışmaq', 'zaman', 'zaretqa', 'zavod', 'zibil', 'ziyan', 'zökəm', 'zəhmət', 'zəhərlənmək', 'zəif', 'zəng', 'zərgər', 'zərifə', 'çalışmaq', 'çanta', 'çatdır', 'çatmamaq', 'çatmaq', 'çay', 'çayxana', 'çağırmaq', 'çox', 'çoxdur', 'çoxlu', 'çörək', 'çürümək', 'çıxartmaq', 'çıxarılmaq', 'çıxmaq', 'çəkinmək', 'çəkmək', 'çətin', 'ödəmək', 'ödəniş', 'öldü', 'ölmə', 'ölmək', 'ölüb', 'ölən', 'ölənə', 'ömürlük', 'öncə', 'ötür', 'ötürmək', 'öyrənmək', 'öyrənmək,', 'öyrətmək', 'öyrəşmək', 'öz', 'özü', 'özüm', 'özün', 'özünü', 'özəl', 'ümumi', 'ünvan', 'ünvanlı', 'ürə', 'ürək', 'üstə', 'üz', 'üzləşmək', 'üzrə', 'üzüm', 'üçün', 'şad', 'şagird', 'şahmat', 'şalvar', 'şeir', 'şey', 'şikayət', 'şirin', 'şirniyyat', 'şkolad', 'şok', 'şuluq', 'şuşa', 'şüşə', 'şəhadətnamə', 'şəhid', 'şəhər', 'şəkil', 'şənbə', 'şəxs', 'şəxsi', 'şəxsiyyət', 'ədəbiyyat', 'ədəd', 'əgər', 'əhali', 'əhalinin', 'əhmədli', 'əhvalım', 'əksik', 'əl', 'əlil', 'əllər', 'əllərim', 'əmi', 'əmək', 'əməliyyat', 'ərazi', 'ərinmək', 'ərizə', 'ərzaq', 'əsl', 'əsəbidir', 'əsəbiləşmək', 'əsər', 'ət', 'ətir', 'ətraflı', 'əvvəl', 'əylənmək', 'əyləşmək', 'əşyalar']\n",
            "Word encodings {'\"dolu\"': 0, '%': 1, ',': 2, '1': 3, '1-2': 4, '10': 5, '100': 6, '103': 7, '11:15': 8, '12': 9, '12:30': 10, '14': 11, '15': 12, '1979': 13, '2': 14, '2015': 15, '2018': 16, '2019': 17, '2022': 18, '23': 19, '24': 20, '28': 21, '29': 22, '3': 23, '4': 24, '40': 25, '43': 26, '5': 27, '6': 28, '65': 29, '67': 30, '7': 31, '8': 32, '?': 33, 'EOS': 34, 'SOS': 35, 'a-d-a': 36, 'a-d-a-s-i': 37, 'a-s-i̇-f': 38, 'abşeron': 39, 'ac': 40, 'acı': 41, 'acılıq': 42, 'acımaq': 43, 'ad': 44, 'adam': 45, 'adamlar': 46, 'administrator': 47, 'ailə': 48, 'alaq': 49, 'aldatmamaq': 50, 'aldatmaq': 51, 'aldığın': 52, 'alergiya': 53, 'alma': 54, 'almaniya': 55, 'almaq': 56, 'altında': 57, 'alıb': 58, 'alınacaq': 59, 'aləm': 60, 'amerika': 61, 'amma': 62, 'ana': 63, 'anam': 64, 'ani': 65, 'anlamamaq,': 66, 'anlamaq': 67, 'aparat': 68, 'aparmaq': 69, 'aprel': 70, 'arayış': 71, 'araşdırılır': 72, 'artist': 73, 'artmaq': 74, 'artıq': 75, 'artırmaq': 76, 'arxanca': 77, 'asan': 78, 'asma': 79, 'asmaq': 80, 'asvalt': 81, 'ata': 82, 'atam': 83, 'atmaq': 84, 'avtobus': 85, 'avtomobil': 86, 'avtomobiı': 87, 'axsamaq': 88, 'axtarmaq': 89, 'axşam': 90, 'ay': 91, 'ayaq': 92, 'ayaqqabı': 93, 'ayaqyolu': 94, 'aygül': 95, 'ayı': 96, 'ayın': 97, 'az': 98, 'azərbaycan': 99, 'açmaq': 100, 'açmaq,': 101, 'açılmaq': 102, 'açıq': 103, 'ağlamaq': 104, 'ağlım': 105, 'ağlında': 106, 'ağrı': 107, 'ağrımaq': 108, 'ağrıyır': 109, 'ağıllı': 110, 'ağır': 111, 'aşağı': 112, 'baba': 113, 'bacarmadım': 114, 'bacarmaq': 115, 'bacarıq': 116, 'bacı': 117, 'baha': 118, 'bakı': 119, 'balaca': 120, 'balıq': 121, 'bank': 122, 'barədə': 123, 'barəsində': 124, 'batareyası': 125, 'batarya': 126, 'bax': 127, 'baxmamaq': 128, 'baxmaq': 129, 'bayaqdan': 130, 'bayram': 131, 'bayrağ': 132, 'bazar': 133, 'bağda': 134, 'bağlamaq': 135, 'bağlı': 136, 'bağışlamaq': 137, 'baş': 138, 'başa': 139, 'başladı': 140, 'başlamaq': 141, 'başqa': 142, 'başqası': 143, 'bel': 144, 'belə': 145, 'bezmək': 146, 'bilet': 147, 'bilir': 148, 'bilirsən': 149, 'bilmir': 150, 'bilmədən': 151, 'bilmək': 152, 'bilməmək': 153, 'bilər': 154, 'bina': 155, 'bir': 156, 'biraz': 157, 'birdəfə': 158, 'birinci': 159, 'birisigün': 160, 'birlikdə': 161, 'bitib': 162, 'bitirmək': 163, 'bitki': 164, 'bitmək': 165, 'biz': 166, 'bizim': 167, 'bişirmək': 168, 'blok': 169, 'boks': 170, 'borc': 171, 'boğaz': 172, 'boş': 173, 'boşalmaq': 174, 'boşanmaq': 175, 'boşuna': 176, 'brazilya': 177, 'brend': 178, 'bridəfə': 179, 'bu': 180, 'bu,': 181, 'bulvar': 182, 'bunu': 183, 'bura': 184, 'burda': 185, 'burdan': 186, 'burun': 187, 'butun': 188, 'böyük': 189, 'bütün': 190, 'bıcaq': 191, 'bədən': 192, 'bəli,': 193, 'bələd': 194, 'bənövşəyi': 195, 'bərabər': 196, 'bərbər': 197, 'bəyənmək': 198, 'bəyənmək,': 199, 'canavar': 200, 'cavab': 201, 'covid': 202, 'cümə': 203, 'cür': 204, 'cəza': 205, 'd-ə-f-i̇-n-ə-l-ə-r': 206, 'd-ə-l-i̇': 207, 'dadlı': 208, 'daima': 209, 'daimi': 210, 'dammaq': 211, 'danışmaq': 212, 'darıxmaq': 213, 'darıxmışam': 214, 'dava': 215, 'davam': 216, 'daxilində': 217, 'dayanmaq': 218, 'dayımgil': 219, 'de': 220, 'dediklərim': 221, 'dediklərin': 222, 'dediklərini': 223, 'dediyim': 224, 'demək': 225, 'deməmək': 226, 'ders': 227, 'deyil': 228, 'deyil,': 229, 'dil': 230, 'diplom': 231, 'diqqətlə': 232, 'dizayner': 233, 'diş': 234, 'dollar': 235, 'dolmaq': 236, 'dondurma': 237, 'dost': 238, 'dostum': 239, 'doğmaq': 240, 'doğulmaq': 241, 'dtx': 242, 'duman': 243, 'durmaq': 244, 'dövlət': 245, 'dövr': 246, 'dülgər': 247, 'dünya': 248, 'dünən': 249, 'düz': 250, 'düzgün': 251, 'düzəltmək': 252, 'düşmür': 253, 'düşmək': 254, 'düşmən': 255, 'düşüncə': 256, 'dəfn': 257, 'dəfə': 258, 'dəhşət': 259, 'dəli': 260, 'dəniz': 261, 'dənə': 262, 'dəqiq': 263, 'dəqiqə': 264, 'dərman': 265, 'dərs': 266, 'dəstəkləmək': 267, 'dəvət': 268, 'dəyişmək': 269, 'dəymək': 270, 'edib': 271, 'edə': 272, 'edənlər': 273, 'ehtiyyac': 274, 'ehtiyyatlı': 275, 'elektron': 276, 'elmlər': 277, 'endirim': 278, 'et': 279, 'etdikləri': 280, 'etdiklərin': 281, 'etdikərinə': 282, 'etibarnamə': 283, 'etmək': 284, 'etməmək': 285, 'ev': 286, 'evdə': 287, 'evə': 288, 'eynisi': 289, 'eynək': 290, 'eşitmə': 291, 'eşitmək': 292, 'facebook': 293, 'faliyyət': 294, 'fanat': 295, 'fanatınız': 296, 'faydalı': 297, 'fikir': 298, 'fikirləşmək,': 299, 'film': 300, 'fond': 301, 'forma': 302, 'fotoqraf': 303, 'fransa': 304, 'futbol': 305, 'fərqli': 306, 'gec': 307, 'gecikmək': 308, 'gecikməmək': 309, 'gecikə': 310, 'geniş': 311, 'getmişkən': 312, 'getmək': 313, 'geyim': 314, 'geyinmək': 315, 'girmək': 316, 'gizli': 317, 'gizlincə': 318, 'gizlətmək': 319, 'göndərdiklərin': 320, 'göndərmək': 321, 'gördün': 322, 'görmüşəm': 323, 'görmək': 324, 'görməmək': 325, 'görüm': 326, 'görünmək': 327, 'görüntü': 328, 'görüş': 329, 'görüşmək': 330, 'görüşəndə': 331, 'görə': 332, 'göstərmək': 333, 'götür': 334, 'götürmək': 335, 'götürülmək': 336, 'göy': 337, 'göz': 338, 'gözləmək': 339, 'gözümlə': 340, 'gözəl': 341, 'güc': 342, 'güclü': 343, 'gül': 344, 'gülməli': 345, 'güləş': 346, 'gün': 347, 'günahkar': 348, 'günorta': 349, 'günü': 350, 'günüm': 351, 'günəş': 352, 'güzgü': 353, 'gəlmə': 354, 'gəlmək': 355, 'gəlməmək': 356, 'gəlməsin': 357, 'gələcək': 358, 'gəmi': 359, 'gəncə': 360, 'gətirmək': 361, 'gəzmək': 362, 'hadisə': 363, 'hal': 364, 'halal': 365, 'hamı': 366, 'hansi': 367, 'hansı': 368, 'haqqında': 369, 'hara': 370, 'harda': 371, 'hardan': 372, 'hava': 373, 'hazırlamaq': 374, 'hesablamaq': 375, 'heyif': 376, 'heyvan': 377, 'heç': 378, 'hiss': 379, 'höküm': 380, 'hörmət': 381, 'hündür': 382, 'hüquq': 383, 'hədiyyə': 384, 'həftə': 385, 'həkim': 386, 'həlimə': 387, 'həll': 388, 'hələ': 389, 'həmin': 390, 'həmişə': 391, 'hər': 392, 'hərbi': 393, 'hərdən': 394, 'həvəs': 395, 'həyat': 396, 'həyət': 397, 'icbari': 398, 'idman': 399, 'ifa': 400, 'ifadə': 401, 'iki': 402, 'ikinci': 403, 'il': 404, 'ilk': 405, 'imiş': 406, 'imkan': 407, 'imtahan': 408, 'inciklik': 409, 'incimək': 410, 'incitmək': 411, 'indi': 412, 'insan': 413, 'insana': 414, 'instagram': 415, 'internet': 416, 'irgənmək': 417, 'irəliləmək': 418, 'isti': 419, 'istifadə': 420, 'istiqamət': 421, 'istirahət': 422, 'istəmir': 423, 'istəmək': 424, 'istəməmək': 425, 'istənilən': 426, 'istəsən': 427, 'istəyir': 428, 'it': 429, 'itirmək': 430, 'ixtisas': 431, 'iz': 432, 'izah': 433, 'izləmək': 434, 'içimi': 435, 'içmək': 436, 'iş': 437, 'işarə': 438, 'işarət': 439, 'işləmir': 440, 'işləmək': 441, 'iştirak': 442, 'işçi': 443, 'işçiləri': 444, 'işıq': 445, 'i̇ki': 446, 'i̇mtahan': 447, 'i̇mtina': 448, 'i̇ncimə,': 449, 'i̇ndi': 450, 'i̇nternet': 451, 'i̇tmək': 452, 'i̇yun': 453, 'i̇çimdə': 454, 'i̇çərişəhər': 455, 'i̇ş': 456, 'i̇şarət': 457, 'i̇şıq': 458, 'jest': 459, 'jestdili.az': 460, 'k-ü-r': 461, 'kapital': 462, 'karopka': 463, 'kart': 464, 'kasib': 465, 'kağız': 466, 'keyfiyyətsiz': 467, 'keçmiş': 468, 'keçmişdə': 469, 'keçmək': 470, 'ki,': 471, 'kim': 472, 'kimi': 473, 'kimlər': 474, 'kirli': 475, 'kitab': 476, 'kod': 477, 'kofe': 478, 'komanda': 479, 'komissiya': 480, 'kompyuter': 481, 'kompüter': 482, 'kondisoner': 483, 'kontur': 484, 'kopiya': 485, 'kostyum,': 486, 'koxlear': 487, 'kq': 488, 'kral': 489, 'kubok': 490, 'kurs': 491, 'köcüb': 492, 'köcürdüm': 493, 'kömək': 494, 'könül': 495, 'könüllü': 496, 'körpə': 497, 'köynək': 498, 'köçürmək': 499, 'külək': 500, 'kənd': 501, 'kəs': 502, 'kəsilmək': 503, 'kəsmək': 504, 'lahiyə': 505, 'lal': 506, 'lazım': 507, 'limit': 508, 'lovğalanmaq': 509, 'lənkaran': 510, 'ləqəb': 511, 'ləğv': 512, 'm-ə-h-ə-r-r-ə-m-o-v': 513, 'maaş': 514, 'mafia': 515, 'mafiya': 516, 'mahnı': 517, 'manat': 518, 'mane': 519, 'maraq': 520, 'maraqlı': 521, 'market': 522, 'mavi': 523, 'mavi,': 524, 'may': 525, 'maşın': 526, 'mebel': 527, 'mehriban': 528, 'mesaj': 529, 'messi': 530, 'metro': 531, 'meyvə': 532, 'meşə': 533, 'min': 534, 'minnətdar': 535, 'mitinq': 536, 'mobil': 537, 'model': 538, 'motor': 539, 'muzey': 540, 'müalicə': 541, 'mübarizə': 542, 'müdafiə': 543, 'müddət': 544, 'müddətli': 545, 'müharibə': 546, 'mühavizə': 547, 'müqavilə': 548, 'müraciət': 549, 'müvəqqəti': 550, 'müxtəlif': 551, 'müəllim': 552, 'müəyyən': 553, 'məcbur': 554, 'mədəni': 555, 'məhdud': 556, 'məhkəmə': 557, 'məktub': 558, 'məktəb': 559, 'məlumat': 560, 'mən': 561, 'mənası': 562, 'məndədir': 563, 'məni': 564, 'mənim': 565, 'məntiq': 566, 'mənə': 567, 'məqsəd': 568, 'mərkəz': 569, 'məsləhət': 570, 'məsələ': 571, 'məsələn': 572, 'mətbəx': 573, 'məyus': 574, 'məzuniyyət': 575, 'məşğul': 576, 'məşğulluq': 577, 'nail': 578, 'narahat': 579, 'natarus': 580, 'nazirlik': 581, 'necə': 582, 'neçə': 583, 'neçəyə': 584, 'niyə': 585, 'normal': 586, 'notarius': 587, 'nömrə': 588, 'növbə': 589, 'növbəti': 590, 'nə': 591, 'nədir': 592, 'nəfər': 593, 'nənə': 594, 'nərimanov': 595, 'nəvə': 596, 'nəyəsə': 597, 'nəzarət': 598, 'o': 599, 'o,': 600, 'ofis': 601, 'ol': 602, 'olacaq': 603, 'olacaq,': 604, 'olan': 605, 'olar': 606, 'olar,': 607, 'olduğu': 608, 'olduğunu': 609, 'olma': 610, 'olmalı': 611, 'olmamaq': 612, 'olmaq': 613, 'olmaq,': 614, 'olmasa': 615, 'olmayacaq': 616, 'olub': 617, 'olur': 618, 'ona': 619, 'ondan': 620, 'onlar': 621, 'onlayn': 622, 'onu': 623, 'onun': 624, 'onunla': 625, 'onıayn': 626, 'ora': 627, 'orda': 628, 'otaq': 629, 'otur': 630, 'oturmaq': 631, 'oxudum': 632, 'oxumaq': 633, 'oxşamaq': 634, 'oyanmaq': 635, 'oynamaq': 636, 'oğlum': 637, 'oğul': 638, 'oğurlamaq': 639, 'oğurluq': 640, 'paltar': 641, 'parol': 642, 'partlayış': 643, 'pasport': 644, 'paytaxt': 645, 'pensiya': 646, 'peşə': 647, 'peşəkar': 648, 'piano': 649, 'pis': 650, 'pis,': 651, 'pisxoloq': 652, 'pivə': 653, 'piyada': 654, 'pişik': 655, 'plomb': 656, 'plomblatdırmaq': 657, 'poliknikaya': 658, 'polis': 659, 'pozmaq': 660, 'prarol': 661, 'problem': 662, 'profesional': 663, 'proqram': 664, 'proses': 665, 'protez': 666, 'pul': 667, 'pulsuz': 668, 'pəncərə': 669, 'pərt': 670, 'qab': 671, 'qadın': 672, 'qalmamaq': 673, 'qalmaq': 674, 'qalmışdı': 675, 'qalstuk': 676, 'qalxmaq': 677, 'qalır': 678, 'qan': 679, 'qanun': 680, 'qanunsuz': 681, 'qapı': 682, 'qar': 683, 'qara': 684, 'qarabağ': 685, 'qaralamaq': 686, 'qaranlıq': 687, 'qardaş': 688, 'qarışdı': 689, 'qarşı': 690, 'qarşılaşmaq,': 691, 'qatar': 692, 'qayda': 693, 'qaytarmaq': 694, 'qayınanan': 695, 'qayınatam': 696, 'qaz': 697, 'qazanmaq': 698, 'qazax': 699, 'qaçmaq': 700, 'qeyd': 701, 'qeydiyyat': 702, 'qiymət': 703, 'qizil': 704, 'qoca': 705, 'qohum': 706, 'qol': 707, 'qonaq': 708, 'qonşu': 709, 'qorumaq': 710, 'qorxmamaq': 711, 'qorxmaq': 712, 'qovulmaq': 713, 'qoxu': 714, 'qoy': 715, 'qoşulmaq': 716, 'qrafik': 717, 'qrip': 718, 'qrup': 719, 'qucaqlaşmaq': 720, 'qulaq': 721, 'qulağ': 722, 'qurtuldum': 723, 'qurup': 724, 'qutarmaq': 725, 'qırağa': 726, 'qırmızı': 727, 'qırılmaq': 728, 'qız': 729, 'qızm': 730, 'qızıl': 731, 'qızım': 732, 'qış': 733, 'qəbul': 734, 'qəbələyə': 735, 'qədim': 736, 'qədər': 737, 'qəfil': 738, 'qələm': 739, 'qəpik': 740, 'qəribə': 741, 'qəza': 742, 'qəşəng': 743, 'r?': 744, 'radar': 745, 'rahat': 746, 'rayon': 747, 'razmer': 748, 'razı': 749, 'restoran': 750, 'riyaziyyat': 751, 'rus': 752, 'rusiya': 753, 'russiya': 754, 'rüşvət': 755, 'rədd': 756, 'rəng': 757, 'rəqqas': 758, 'rəsm': 759, 'rəssam': 760, 'saat': 761, 'sabah': 762, 'sabun': 763, 'sadə': 764, 'sahil': 765, 'sakit': 766, 'salam': 767, 'salmaq': 768, 'sancılmaq': 769, 'satıcı': 770, 'satır': 771, 'saxla': 772, 'saxlamaq': 773, 'saxta': 774, 'say': 775, 'sayt': 776, 'sayılmır': 777, 'saç': 778, 'sağ': 779, 'sağlam': 780, 'sağlamlıq': 781, 'sep': 782, 'serial': 783, 'sevinmək': 784, 'sevirəm': 785, 'sevmir': 786, 'sevmirəm': 787, 'sevmək': 788, 'seçim': 789, 'sifariş': 790, 'sinir': 791, 'siqaret': 792, 'sirr': 793, 'sistem': 794, 'siyahı': 795, 'siz': 796, 'sizi': 797, 'sizə': 798, 'sonra': 799, 'soruşma': 800, 'soruşmaq': 801, 'sos': 802, 'sosial': 803, 'sosisal': 804, 'soyuq': 805, 'soğan': 806, 'staj': 807, 'stol': 808, 'stəkan': 809, 'su': 810, 'sual': 811, 'subay': 812, 'sumqayıt': 813, 'sup': 814, 'surdotərcümə': 815, 'sus': 816, 'söhbət': 817, 'söndurmək': 818, 'söz': 819, 'sözləşmək': 820, 'sözü': 821, 'sübut': 822, 'sürmək': 823, 'sürücü': 824, 'sürət': 825, 'sürətli': 826, 'sınmaq': 827, 'sınmış': 828, 'sırağagün': 829, 'sıxlıq': 830, 'sığorta': 831, 'səbəb': 832, 'sədərək': 833, 'səhv': 834, 'səhər': 835, 'səliqəli': 836, 'sən': 837, 'səni': 838, 'sənin': 839, 'sənlə': 840, 'sənəd': 841, 'sərbəst': 842, 'sərgi': 843, 'sərin': 844, 'səs': 845, 'sətəlcəm': 846, 'səyahet': 847, 'səyahət': 848, 'taksi': 849, 'tamamilə': 850, 'tamamlamaq': 851, 'tanımamaq': 852, 'tanımaq': 853, 'tanış': 854, 'tapmaq': 855, 'tapşırıq': 856, 'tarix': 857, 'taxmaq': 858, 'taxtı': 859, 'telefon': 860, 'televizor': 861, 'tez': 862, 'tibb': 863, 'tibbi': 864, 'ticarət': 865, 'torba': 866, 'toy': 867, 'tunel': 868, 'turba': 869, 'tutdu': 870, 'tutmaq': 871, 'türkiyə': 872, 'təbrik': 873, 'təcrübə': 874, 'tədbir': 875, 'təhlükəli': 876, 'təhqir': 877, 'təhsil': 878, 'tək': 879, 'təkrar-təkrar': 880, 'təkrarlamaq': 881, 'təkər': 882, 'tələb': 883, 'tələbə': 884, 'tələsmək': 885, 'tələsmək,': 886, 'təmir': 887, 'təmiz': 888, 'tərcümə': 889, 'tərəf': 890, 'təsdiq': 891, 'təxmini': 892, 'təyin': 893, 'təyyarə': 894, 'təziq': 895, 'təşəkkür': 896, 'uca': 897, 'ucuz': 898, 'univeristetində': 899, 'universitet': 900, 'universtet': 901, 'unutmaq': 902, 'usta': 903, 'uyğun': 904, 'uzaq': 905, 'uzaqlaşmaq': 906, 'uzatmaq': 907, 'uzun': 908, 'uğur': 909, 'uşaq': 910, 'uşaqlar': 911, 'uşaqlıqdan': 912, 'uşağ': 913, 'va': 914, 'vaksin': 915, 'valehedici': 916, 'var': 917, 'var,': 918, 'var?': 919, 'vaxt': 920, 'ver': 921, 'vermek': 922, 'vermək': 923, 'verəcək': 924, 'video': 925, 'viza': 926, 'voen': 927, 'vurma': 928, 'vurmaq': 929, 'və': 930, 'vəkil': 931, 'vəsiqə': 932, 'vəzifə': 933, 'vəziyyət': 934, 'wifi': 935, 'xahiş': 936, 'xarab': 937, 'xarici': 938, 'xasiyyət': 939, 'xasiyyəti': 940, 'xatirə': 941, 'xatırladım,': 942, 'xatırlamaq?': 943, 'xeyir': 944, 'xeyri': 945, 'xoşbəxt': 946, 'xoşlamaq': 947, 'xoşum': 948, 'xoşuma': 949, 'xırda': 950, 'xəbər': 951, 'xəste': 952, 'xəstə': 953, 'xətrinə': 954, 'xəyal': 955, 'yad': 956, 'yadımda': 957, 'yalan': 958, 'yandırmaq': 959, 'yanmaq': 960, 'yanımda': 961, 'yanında': 962, 'yanıqlı': 963, 'yara': 964, 'yaralanmaq': 965, 'yaralı': 966, 'yardim': 967, 'yardım': 968, 'yarımçıq': 969, 'yarış': 970, 'yarışma': 971, 'yasamal': 972, 'yatmaq': 973, 'yaxalamaq': 974, 'yaxın': 975, 'yaxşı': 976, 'yaxşı,': 977, 'yaxşısı': 978, 'yay': 979, 'yazmaq': 980, 'yazmaq-oxumaq': 981, 'yazı': 982, 'yazılmaq': 983, 'yazıq': 984, 'yağ': 985, 'yağmaq': 986, 'yaırsı': 987, 'yaş': 988, 'yaşamaq': 989, 'yaşayır': 990, 'yaşıl': 991, 'yedizdirmək': 992, 'yemir': 993, 'yemək': 994, 'yeni': 995, 'yenə': 996, 'yer': 997, 'yerə': 998, 'yod': 999, 'yol': 1000, 'yoldaş': 1001, 'yoldaşım': 1002, 'yoldaşından': 1003, 'yolka': 1004, 'yorulmaq': 1005, 'youtube': 1006, 'yox': 1007, 'yoxdur': 1008, 'yoxlama': 1009, 'yoxlamaq': 1010, 'yoxsa': 1011, 'yubandı': 1012, 'yumaq': 1013, 'yumulur': 1014, 'yuxu': 1015, 'yükləmək': 1016, 'yüksək': 1017, 'yığmaq': 1018, 'yığışdırmaq': 1019, 'yığışmaq': 1020, 'zaman': 1021, 'zaretqa': 1022, 'zavod': 1023, 'zibil': 1024, 'ziyan': 1025, 'zökəm': 1026, 'zəhmət': 1027, 'zəhərlənmək': 1028, 'zəif': 1029, 'zəng': 1030, 'zərgər': 1031, 'zərifə': 1032, 'çalışmaq': 1033, 'çanta': 1034, 'çatdır': 1035, 'çatmamaq': 1036, 'çatmaq': 1037, 'çay': 1038, 'çayxana': 1039, 'çağırmaq': 1040, 'çox': 1041, 'çoxdur': 1042, 'çoxlu': 1043, 'çörək': 1044, 'çürümək': 1045, 'çıxartmaq': 1046, 'çıxarılmaq': 1047, 'çıxmaq': 1048, 'çəkinmək': 1049, 'çəkmək': 1050, 'çətin': 1051, 'ödəmək': 1052, 'ödəniş': 1053, 'öldü': 1054, 'ölmə': 1055, 'ölmək': 1056, 'ölüb': 1057, 'ölən': 1058, 'ölənə': 1059, 'ömürlük': 1060, 'öncə': 1061, 'ötür': 1062, 'ötürmək': 1063, 'öyrənmək': 1064, 'öyrənmək,': 1065, 'öyrətmək': 1066, 'öyrəşmək': 1067, 'öz': 1068, 'özü': 1069, 'özüm': 1070, 'özün': 1071, 'özünü': 1072, 'özəl': 1073, 'ümumi': 1074, 'ünvan': 1075, 'ünvanlı': 1076, 'ürə': 1077, 'ürək': 1078, 'üstə': 1079, 'üz': 1080, 'üzləşmək': 1081, 'üzrə': 1082, 'üzüm': 1083, 'üçün': 1084, 'şad': 1085, 'şagird': 1086, 'şahmat': 1087, 'şalvar': 1088, 'şeir': 1089, 'şey': 1090, 'şikayət': 1091, 'şirin': 1092, 'şirniyyat': 1093, 'şkolad': 1094, 'şok': 1095, 'şuluq': 1096, 'şuşa': 1097, 'şüşə': 1098, 'şəhadətnamə': 1099, 'şəhid': 1100, 'şəhər': 1101, 'şəkil': 1102, 'şənbə': 1103, 'şəxs': 1104, 'şəxsi': 1105, 'şəxsiyyət': 1106, 'ədəbiyyat': 1107, 'ədəd': 1108, 'əgər': 1109, 'əhali': 1110, 'əhalinin': 1111, 'əhmədli': 1112, 'əhvalım': 1113, 'əksik': 1114, 'əl': 1115, 'əlil': 1116, 'əllər': 1117, 'əllərim': 1118, 'əmi': 1119, 'əmək': 1120, 'əməliyyat': 1121, 'ərazi': 1122, 'ərinmək': 1123, 'ərizə': 1124, 'ərzaq': 1125, 'əsl': 1126, 'əsəbidir': 1127, 'əsəbiləşmək': 1128, 'əsər': 1129, 'ət': 1130, 'ətir': 1131, 'ətraflı': 1132, 'əvvəl': 1133, 'əylənmək': 1134, 'əyləşmək': 1135, 'əşyalar': 1136}\n",
            "Words by index {0: '\"dolu\"', 1: '%', 2: ',', 3: '1', 4: '1-2', 5: '10', 6: '100', 7: '103', 8: '11:15', 9: '12', 10: '12:30', 11: '14', 12: '15', 13: '1979', 14: '2', 15: '2015', 16: '2018', 17: '2019', 18: '2022', 19: '23', 20: '24', 21: '28', 22: '29', 23: '3', 24: '4', 25: '40', 26: '43', 27: '5', 28: '6', 29: '65', 30: '67', 31: '7', 32: '8', 33: '?', 34: 'EOS', 35: 'SOS', 36: 'a-d-a', 37: 'a-d-a-s-i', 38: 'a-s-i̇-f', 39: 'abşeron', 40: 'ac', 41: 'acı', 42: 'acılıq', 43: 'acımaq', 44: 'ad', 45: 'adam', 46: 'adamlar', 47: 'administrator', 48: 'ailə', 49: 'alaq', 50: 'aldatmamaq', 51: 'aldatmaq', 52: 'aldığın', 53: 'alergiya', 54: 'alma', 55: 'almaniya', 56: 'almaq', 57: 'altında', 58: 'alıb', 59: 'alınacaq', 60: 'aləm', 61: 'amerika', 62: 'amma', 63: 'ana', 64: 'anam', 65: 'ani', 66: 'anlamamaq,', 67: 'anlamaq', 68: 'aparat', 69: 'aparmaq', 70: 'aprel', 71: 'arayış', 72: 'araşdırılır', 73: 'artist', 74: 'artmaq', 75: 'artıq', 76: 'artırmaq', 77: 'arxanca', 78: 'asan', 79: 'asma', 80: 'asmaq', 81: 'asvalt', 82: 'ata', 83: 'atam', 84: 'atmaq', 85: 'avtobus', 86: 'avtomobil', 87: 'avtomobiı', 88: 'axsamaq', 89: 'axtarmaq', 90: 'axşam', 91: 'ay', 92: 'ayaq', 93: 'ayaqqabı', 94: 'ayaqyolu', 95: 'aygül', 96: 'ayı', 97: 'ayın', 98: 'az', 99: 'azərbaycan', 100: 'açmaq', 101: 'açmaq,', 102: 'açılmaq', 103: 'açıq', 104: 'ağlamaq', 105: 'ağlım', 106: 'ağlında', 107: 'ağrı', 108: 'ağrımaq', 109: 'ağrıyır', 110: 'ağıllı', 111: 'ağır', 112: 'aşağı', 113: 'baba', 114: 'bacarmadım', 115: 'bacarmaq', 116: 'bacarıq', 117: 'bacı', 118: 'baha', 119: 'bakı', 120: 'balaca', 121: 'balıq', 122: 'bank', 123: 'barədə', 124: 'barəsində', 125: 'batareyası', 126: 'batarya', 127: 'bax', 128: 'baxmamaq', 129: 'baxmaq', 130: 'bayaqdan', 131: 'bayram', 132: 'bayrağ', 133: 'bazar', 134: 'bağda', 135: 'bağlamaq', 136: 'bağlı', 137: 'bağışlamaq', 138: 'baş', 139: 'başa', 140: 'başladı', 141: 'başlamaq', 142: 'başqa', 143: 'başqası', 144: 'bel', 145: 'belə', 146: 'bezmək', 147: 'bilet', 148: 'bilir', 149: 'bilirsən', 150: 'bilmir', 151: 'bilmədən', 152: 'bilmək', 153: 'bilməmək', 154: 'bilər', 155: 'bina', 156: 'bir', 157: 'biraz', 158: 'birdəfə', 159: 'birinci', 160: 'birisigün', 161: 'birlikdə', 162: 'bitib', 163: 'bitirmək', 164: 'bitki', 165: 'bitmək', 166: 'biz', 167: 'bizim', 168: 'bişirmək', 169: 'blok', 170: 'boks', 171: 'borc', 172: 'boğaz', 173: 'boş', 174: 'boşalmaq', 175: 'boşanmaq', 176: 'boşuna', 177: 'brazilya', 178: 'brend', 179: 'bridəfə', 180: 'bu', 181: 'bu,', 182: 'bulvar', 183: 'bunu', 184: 'bura', 185: 'burda', 186: 'burdan', 187: 'burun', 188: 'butun', 189: 'böyük', 190: 'bütün', 191: 'bıcaq', 192: 'bədən', 193: 'bəli,', 194: 'bələd', 195: 'bənövşəyi', 196: 'bərabər', 197: 'bərbər', 198: 'bəyənmək', 199: 'bəyənmək,', 200: 'canavar', 201: 'cavab', 202: 'covid', 203: 'cümə', 204: 'cür', 205: 'cəza', 206: 'd-ə-f-i̇-n-ə-l-ə-r', 207: 'd-ə-l-i̇', 208: 'dadlı', 209: 'daima', 210: 'daimi', 211: 'dammaq', 212: 'danışmaq', 213: 'darıxmaq', 214: 'darıxmışam', 215: 'dava', 216: 'davam', 217: 'daxilində', 218: 'dayanmaq', 219: 'dayımgil', 220: 'de', 221: 'dediklərim', 222: 'dediklərin', 223: 'dediklərini', 224: 'dediyim', 225: 'demək', 226: 'deməmək', 227: 'ders', 228: 'deyil', 229: 'deyil,', 230: 'dil', 231: 'diplom', 232: 'diqqətlə', 233: 'dizayner', 234: 'diş', 235: 'dollar', 236: 'dolmaq', 237: 'dondurma', 238: 'dost', 239: 'dostum', 240: 'doğmaq', 241: 'doğulmaq', 242: 'dtx', 243: 'duman', 244: 'durmaq', 245: 'dövlət', 246: 'dövr', 247: 'dülgər', 248: 'dünya', 249: 'dünən', 250: 'düz', 251: 'düzgün', 252: 'düzəltmək', 253: 'düşmür', 254: 'düşmək', 255: 'düşmən', 256: 'düşüncə', 257: 'dəfn', 258: 'dəfə', 259: 'dəhşət', 260: 'dəli', 261: 'dəniz', 262: 'dənə', 263: 'dəqiq', 264: 'dəqiqə', 265: 'dərman', 266: 'dərs', 267: 'dəstəkləmək', 268: 'dəvət', 269: 'dəyişmək', 270: 'dəymək', 271: 'edib', 272: 'edə', 273: 'edənlər', 274: 'ehtiyyac', 275: 'ehtiyyatlı', 276: 'elektron', 277: 'elmlər', 278: 'endirim', 279: 'et', 280: 'etdikləri', 281: 'etdiklərin', 282: 'etdikərinə', 283: 'etibarnamə', 284: 'etmək', 285: 'etməmək', 286: 'ev', 287: 'evdə', 288: 'evə', 289: 'eynisi', 290: 'eynək', 291: 'eşitmə', 292: 'eşitmək', 293: 'facebook', 294: 'faliyyət', 295: 'fanat', 296: 'fanatınız', 297: 'faydalı', 298: 'fikir', 299: 'fikirləşmək,', 300: 'film', 301: 'fond', 302: 'forma', 303: 'fotoqraf', 304: 'fransa', 305: 'futbol', 306: 'fərqli', 307: 'gec', 308: 'gecikmək', 309: 'gecikməmək', 310: 'gecikə', 311: 'geniş', 312: 'getmişkən', 313: 'getmək', 314: 'geyim', 315: 'geyinmək', 316: 'girmək', 317: 'gizli', 318: 'gizlincə', 319: 'gizlətmək', 320: 'göndərdiklərin', 321: 'göndərmək', 322: 'gördün', 323: 'görmüşəm', 324: 'görmək', 325: 'görməmək', 326: 'görüm', 327: 'görünmək', 328: 'görüntü', 329: 'görüş', 330: 'görüşmək', 331: 'görüşəndə', 332: 'görə', 333: 'göstərmək', 334: 'götür', 335: 'götürmək', 336: 'götürülmək', 337: 'göy', 338: 'göz', 339: 'gözləmək', 340: 'gözümlə', 341: 'gözəl', 342: 'güc', 343: 'güclü', 344: 'gül', 345: 'gülməli', 346: 'güləş', 347: 'gün', 348: 'günahkar', 349: 'günorta', 350: 'günü', 351: 'günüm', 352: 'günəş', 353: 'güzgü', 354: 'gəlmə', 355: 'gəlmək', 356: 'gəlməmək', 357: 'gəlməsin', 358: 'gələcək', 359: 'gəmi', 360: 'gəncə', 361: 'gətirmək', 362: 'gəzmək', 363: 'hadisə', 364: 'hal', 365: 'halal', 366: 'hamı', 367: 'hansi', 368: 'hansı', 369: 'haqqında', 370: 'hara', 371: 'harda', 372: 'hardan', 373: 'hava', 374: 'hazırlamaq', 375: 'hesablamaq', 376: 'heyif', 377: 'heyvan', 378: 'heç', 379: 'hiss', 380: 'höküm', 381: 'hörmət', 382: 'hündür', 383: 'hüquq', 384: 'hədiyyə', 385: 'həftə', 386: 'həkim', 387: 'həlimə', 388: 'həll', 389: 'hələ', 390: 'həmin', 391: 'həmişə', 392: 'hər', 393: 'hərbi', 394: 'hərdən', 395: 'həvəs', 396: 'həyat', 397: 'həyət', 398: 'icbari', 399: 'idman', 400: 'ifa', 401: 'ifadə', 402: 'iki', 403: 'ikinci', 404: 'il', 405: 'ilk', 406: 'imiş', 407: 'imkan', 408: 'imtahan', 409: 'inciklik', 410: 'incimək', 411: 'incitmək', 412: 'indi', 413: 'insan', 414: 'insana', 415: 'instagram', 416: 'internet', 417: 'irgənmək', 418: 'irəliləmək', 419: 'isti', 420: 'istifadə', 421: 'istiqamət', 422: 'istirahət', 423: 'istəmir', 424: 'istəmək', 425: 'istəməmək', 426: 'istənilən', 427: 'istəsən', 428: 'istəyir', 429: 'it', 430: 'itirmək', 431: 'ixtisas', 432: 'iz', 433: 'izah', 434: 'izləmək', 435: 'içimi', 436: 'içmək', 437: 'iş', 438: 'işarə', 439: 'işarət', 440: 'işləmir', 441: 'işləmək', 442: 'iştirak', 443: 'işçi', 444: 'işçiləri', 445: 'işıq', 446: 'i̇ki', 447: 'i̇mtahan', 448: 'i̇mtina', 449: 'i̇ncimə,', 450: 'i̇ndi', 451: 'i̇nternet', 452: 'i̇tmək', 453: 'i̇yun', 454: 'i̇çimdə', 455: 'i̇çərişəhər', 456: 'i̇ş', 457: 'i̇şarət', 458: 'i̇şıq', 459: 'jest', 460: 'jestdili.az', 461: 'k-ü-r', 462: 'kapital', 463: 'karopka', 464: 'kart', 465: 'kasib', 466: 'kağız', 467: 'keyfiyyətsiz', 468: 'keçmiş', 469: 'keçmişdə', 470: 'keçmək', 471: 'ki,', 472: 'kim', 473: 'kimi', 474: 'kimlər', 475: 'kirli', 476: 'kitab', 477: 'kod', 478: 'kofe', 479: 'komanda', 480: 'komissiya', 481: 'kompyuter', 482: 'kompüter', 483: 'kondisoner', 484: 'kontur', 485: 'kopiya', 486: 'kostyum,', 487: 'koxlear', 488: 'kq', 489: 'kral', 490: 'kubok', 491: 'kurs', 492: 'köcüb', 493: 'köcürdüm', 494: 'kömək', 495: 'könül', 496: 'könüllü', 497: 'körpə', 498: 'köynək', 499: 'köçürmək', 500: 'külək', 501: 'kənd', 502: 'kəs', 503: 'kəsilmək', 504: 'kəsmək', 505: 'lahiyə', 506: 'lal', 507: 'lazım', 508: 'limit', 509: 'lovğalanmaq', 510: 'lənkaran', 511: 'ləqəb', 512: 'ləğv', 513: 'm-ə-h-ə-r-r-ə-m-o-v', 514: 'maaş', 515: 'mafia', 516: 'mafiya', 517: 'mahnı', 518: 'manat', 519: 'mane', 520: 'maraq', 521: 'maraqlı', 522: 'market', 523: 'mavi', 524: 'mavi,', 525: 'may', 526: 'maşın', 527: 'mebel', 528: 'mehriban', 529: 'mesaj', 530: 'messi', 531: 'metro', 532: 'meyvə', 533: 'meşə', 534: 'min', 535: 'minnətdar', 536: 'mitinq', 537: 'mobil', 538: 'model', 539: 'motor', 540: 'muzey', 541: 'müalicə', 542: 'mübarizə', 543: 'müdafiə', 544: 'müddət', 545: 'müddətli', 546: 'müharibə', 547: 'mühavizə', 548: 'müqavilə', 549: 'müraciət', 550: 'müvəqqəti', 551: 'müxtəlif', 552: 'müəllim', 553: 'müəyyən', 554: 'məcbur', 555: 'mədəni', 556: 'məhdud', 557: 'məhkəmə', 558: 'məktub', 559: 'məktəb', 560: 'məlumat', 561: 'mən', 562: 'mənası', 563: 'məndədir', 564: 'məni', 565: 'mənim', 566: 'məntiq', 567: 'mənə', 568: 'məqsəd', 569: 'mərkəz', 570: 'məsləhət', 571: 'məsələ', 572: 'məsələn', 573: 'mətbəx', 574: 'məyus', 575: 'məzuniyyət', 576: 'məşğul', 577: 'məşğulluq', 578: 'nail', 579: 'narahat', 580: 'natarus', 581: 'nazirlik', 582: 'necə', 583: 'neçə', 584: 'neçəyə', 585: 'niyə', 586: 'normal', 587: 'notarius', 588: 'nömrə', 589: 'növbə', 590: 'növbəti', 591: 'nə', 592: 'nədir', 593: 'nəfər', 594: 'nənə', 595: 'nərimanov', 596: 'nəvə', 597: 'nəyəsə', 598: 'nəzarət', 599: 'o', 600: 'o,', 601: 'ofis', 602: 'ol', 603: 'olacaq', 604: 'olacaq,', 605: 'olan', 606: 'olar', 607: 'olar,', 608: 'olduğu', 609: 'olduğunu', 610: 'olma', 611: 'olmalı', 612: 'olmamaq', 613: 'olmaq', 614: 'olmaq,', 615: 'olmasa', 616: 'olmayacaq', 617: 'olub', 618: 'olur', 619: 'ona', 620: 'ondan', 621: 'onlar', 622: 'onlayn', 623: 'onu', 624: 'onun', 625: 'onunla', 626: 'onıayn', 627: 'ora', 628: 'orda', 629: 'otaq', 630: 'otur', 631: 'oturmaq', 632: 'oxudum', 633: 'oxumaq', 634: 'oxşamaq', 635: 'oyanmaq', 636: 'oynamaq', 637: 'oğlum', 638: 'oğul', 639: 'oğurlamaq', 640: 'oğurluq', 641: 'paltar', 642: 'parol', 643: 'partlayış', 644: 'pasport', 645: 'paytaxt', 646: 'pensiya', 647: 'peşə', 648: 'peşəkar', 649: 'piano', 650: 'pis', 651: 'pis,', 652: 'pisxoloq', 653: 'pivə', 654: 'piyada', 655: 'pişik', 656: 'plomb', 657: 'plomblatdırmaq', 658: 'poliknikaya', 659: 'polis', 660: 'pozmaq', 661: 'prarol', 662: 'problem', 663: 'profesional', 664: 'proqram', 665: 'proses', 666: 'protez', 667: 'pul', 668: 'pulsuz', 669: 'pəncərə', 670: 'pərt', 671: 'qab', 672: 'qadın', 673: 'qalmamaq', 674: 'qalmaq', 675: 'qalmışdı', 676: 'qalstuk', 677: 'qalxmaq', 678: 'qalır', 679: 'qan', 680: 'qanun', 681: 'qanunsuz', 682: 'qapı', 683: 'qar', 684: 'qara', 685: 'qarabağ', 686: 'qaralamaq', 687: 'qaranlıq', 688: 'qardaş', 689: 'qarışdı', 690: 'qarşı', 691: 'qarşılaşmaq,', 692: 'qatar', 693: 'qayda', 694: 'qaytarmaq', 695: 'qayınanan', 696: 'qayınatam', 697: 'qaz', 698: 'qazanmaq', 699: 'qazax', 700: 'qaçmaq', 701: 'qeyd', 702: 'qeydiyyat', 703: 'qiymət', 704: 'qizil', 705: 'qoca', 706: 'qohum', 707: 'qol', 708: 'qonaq', 709: 'qonşu', 710: 'qorumaq', 711: 'qorxmamaq', 712: 'qorxmaq', 713: 'qovulmaq', 714: 'qoxu', 715: 'qoy', 716: 'qoşulmaq', 717: 'qrafik', 718: 'qrip', 719: 'qrup', 720: 'qucaqlaşmaq', 721: 'qulaq', 722: 'qulağ', 723: 'qurtuldum', 724: 'qurup', 725: 'qutarmaq', 726: 'qırağa', 727: 'qırmızı', 728: 'qırılmaq', 729: 'qız', 730: 'qızm', 731: 'qızıl', 732: 'qızım', 733: 'qış', 734: 'qəbul', 735: 'qəbələyə', 736: 'qədim', 737: 'qədər', 738: 'qəfil', 739: 'qələm', 740: 'qəpik', 741: 'qəribə', 742: 'qəza', 743: 'qəşəng', 744: 'r?', 745: 'radar', 746: 'rahat', 747: 'rayon', 748: 'razmer', 749: 'razı', 750: 'restoran', 751: 'riyaziyyat', 752: 'rus', 753: 'rusiya', 754: 'russiya', 755: 'rüşvət', 756: 'rədd', 757: 'rəng', 758: 'rəqqas', 759: 'rəsm', 760: 'rəssam', 761: 'saat', 762: 'sabah', 763: 'sabun', 764: 'sadə', 765: 'sahil', 766: 'sakit', 767: 'salam', 768: 'salmaq', 769: 'sancılmaq', 770: 'satıcı', 771: 'satır', 772: 'saxla', 773: 'saxlamaq', 774: 'saxta', 775: 'say', 776: 'sayt', 777: 'sayılmır', 778: 'saç', 779: 'sağ', 780: 'sağlam', 781: 'sağlamlıq', 782: 'sep', 783: 'serial', 784: 'sevinmək', 785: 'sevirəm', 786: 'sevmir', 787: 'sevmirəm', 788: 'sevmək', 789: 'seçim', 790: 'sifariş', 791: 'sinir', 792: 'siqaret', 793: 'sirr', 794: 'sistem', 795: 'siyahı', 796: 'siz', 797: 'sizi', 798: 'sizə', 799: 'sonra', 800: 'soruşma', 801: 'soruşmaq', 802: 'sos', 803: 'sosial', 804: 'sosisal', 805: 'soyuq', 806: 'soğan', 807: 'staj', 808: 'stol', 809: 'stəkan', 810: 'su', 811: 'sual', 812: 'subay', 813: 'sumqayıt', 814: 'sup', 815: 'surdotərcümə', 816: 'sus', 817: 'söhbət', 818: 'söndurmək', 819: 'söz', 820: 'sözləşmək', 821: 'sözü', 822: 'sübut', 823: 'sürmək', 824: 'sürücü', 825: 'sürət', 826: 'sürətli', 827: 'sınmaq', 828: 'sınmış', 829: 'sırağagün', 830: 'sıxlıq', 831: 'sığorta', 832: 'səbəb', 833: 'sədərək', 834: 'səhv', 835: 'səhər', 836: 'səliqəli', 837: 'sən', 838: 'səni', 839: 'sənin', 840: 'sənlə', 841: 'sənəd', 842: 'sərbəst', 843: 'sərgi', 844: 'sərin', 845: 'səs', 846: 'sətəlcəm', 847: 'səyahet', 848: 'səyahət', 849: 'taksi', 850: 'tamamilə', 851: 'tamamlamaq', 852: 'tanımamaq', 853: 'tanımaq', 854: 'tanış', 855: 'tapmaq', 856: 'tapşırıq', 857: 'tarix', 858: 'taxmaq', 859: 'taxtı', 860: 'telefon', 861: 'televizor', 862: 'tez', 863: 'tibb', 864: 'tibbi', 865: 'ticarət', 866: 'torba', 867: 'toy', 868: 'tunel', 869: 'turba', 870: 'tutdu', 871: 'tutmaq', 872: 'türkiyə', 873: 'təbrik', 874: 'təcrübə', 875: 'tədbir', 876: 'təhlükəli', 877: 'təhqir', 878: 'təhsil', 879: 'tək', 880: 'təkrar-təkrar', 881: 'təkrarlamaq', 882: 'təkər', 883: 'tələb', 884: 'tələbə', 885: 'tələsmək', 886: 'tələsmək,', 887: 'təmir', 888: 'təmiz', 889: 'tərcümə', 890: 'tərəf', 891: 'təsdiq', 892: 'təxmini', 893: 'təyin', 894: 'təyyarə', 895: 'təziq', 896: 'təşəkkür', 897: 'uca', 898: 'ucuz', 899: 'univeristetində', 900: 'universitet', 901: 'universtet', 902: 'unutmaq', 903: 'usta', 904: 'uyğun', 905: 'uzaq', 906: 'uzaqlaşmaq', 907: 'uzatmaq', 908: 'uzun', 909: 'uğur', 910: 'uşaq', 911: 'uşaqlar', 912: 'uşaqlıqdan', 913: 'uşağ', 914: 'va', 915: 'vaksin', 916: 'valehedici', 917: 'var', 918: 'var,', 919: 'var?', 920: 'vaxt', 921: 'ver', 922: 'vermek', 923: 'vermək', 924: 'verəcək', 925: 'video', 926: 'viza', 927: 'voen', 928: 'vurma', 929: 'vurmaq', 930: 'və', 931: 'vəkil', 932: 'vəsiqə', 933: 'vəzifə', 934: 'vəziyyət', 935: 'wifi', 936: 'xahiş', 937: 'xarab', 938: 'xarici', 939: 'xasiyyət', 940: 'xasiyyəti', 941: 'xatirə', 942: 'xatırladım,', 943: 'xatırlamaq?', 944: 'xeyir', 945: 'xeyri', 946: 'xoşbəxt', 947: 'xoşlamaq', 948: 'xoşum', 949: 'xoşuma', 950: 'xırda', 951: 'xəbər', 952: 'xəste', 953: 'xəstə', 954: 'xətrinə', 955: 'xəyal', 956: 'yad', 957: 'yadımda', 958: 'yalan', 959: 'yandırmaq', 960: 'yanmaq', 961: 'yanımda', 962: 'yanında', 963: 'yanıqlı', 964: 'yara', 965: 'yaralanmaq', 966: 'yaralı', 967: 'yardim', 968: 'yardım', 969: 'yarımçıq', 970: 'yarış', 971: 'yarışma', 972: 'yasamal', 973: 'yatmaq', 974: 'yaxalamaq', 975: 'yaxın', 976: 'yaxşı', 977: 'yaxşı,', 978: 'yaxşısı', 979: 'yay', 980: 'yazmaq', 981: 'yazmaq-oxumaq', 982: 'yazı', 983: 'yazılmaq', 984: 'yazıq', 985: 'yağ', 986: 'yağmaq', 987: 'yaırsı', 988: 'yaş', 989: 'yaşamaq', 990: 'yaşayır', 991: 'yaşıl', 992: 'yedizdirmək', 993: 'yemir', 994: 'yemək', 995: 'yeni', 996: 'yenə', 997: 'yer', 998: 'yerə', 999: 'yod', 1000: 'yol', 1001: 'yoldaş', 1002: 'yoldaşım', 1003: 'yoldaşından', 1004: 'yolka', 1005: 'yorulmaq', 1006: 'youtube', 1007: 'yox', 1008: 'yoxdur', 1009: 'yoxlama', 1010: 'yoxlamaq', 1011: 'yoxsa', 1012: 'yubandı', 1013: 'yumaq', 1014: 'yumulur', 1015: 'yuxu', 1016: 'yükləmək', 1017: 'yüksək', 1018: 'yığmaq', 1019: 'yığışdırmaq', 1020: 'yığışmaq', 1021: 'zaman', 1022: 'zaretqa', 1023: 'zavod', 1024: 'zibil', 1025: 'ziyan', 1026: 'zökəm', 1027: 'zəhmət', 1028: 'zəhərlənmək', 1029: 'zəif', 1030: 'zəng', 1031: 'zərgər', 1032: 'zərifə', 1033: 'çalışmaq', 1034: 'çanta', 1035: 'çatdır', 1036: 'çatmamaq', 1037: 'çatmaq', 1038: 'çay', 1039: 'çayxana', 1040: 'çağırmaq', 1041: 'çox', 1042: 'çoxdur', 1043: 'çoxlu', 1044: 'çörək', 1045: 'çürümək', 1046: 'çıxartmaq', 1047: 'çıxarılmaq', 1048: 'çıxmaq', 1049: 'çəkinmək', 1050: 'çəkmək', 1051: 'çətin', 1052: 'ödəmək', 1053: 'ödəniş', 1054: 'öldü', 1055: 'ölmə', 1056: 'ölmək', 1057: 'ölüb', 1058: 'ölən', 1059: 'ölənə', 1060: 'ömürlük', 1061: 'öncə', 1062: 'ötür', 1063: 'ötürmək', 1064: 'öyrənmək', 1065: 'öyrənmək,', 1066: 'öyrətmək', 1067: 'öyrəşmək', 1068: 'öz', 1069: 'özü', 1070: 'özüm', 1071: 'özün', 1072: 'özünü', 1073: 'özəl', 1074: 'ümumi', 1075: 'ünvan', 1076: 'ünvanlı', 1077: 'ürə', 1078: 'ürək', 1079: 'üstə', 1080: 'üz', 1081: 'üzləşmək', 1082: 'üzrə', 1083: 'üzüm', 1084: 'üçün', 1085: 'şad', 1086: 'şagird', 1087: 'şahmat', 1088: 'şalvar', 1089: 'şeir', 1090: 'şey', 1091: 'şikayət', 1092: 'şirin', 1093: 'şirniyyat', 1094: 'şkolad', 1095: 'şok', 1096: 'şuluq', 1097: 'şuşa', 1098: 'şüşə', 1099: 'şəhadətnamə', 1100: 'şəhid', 1101: 'şəhər', 1102: 'şəkil', 1103: 'şənbə', 1104: 'şəxs', 1105: 'şəxsi', 1106: 'şəxsiyyət', 1107: 'ədəbiyyat', 1108: 'ədəd', 1109: 'əgər', 1110: 'əhali', 1111: 'əhalinin', 1112: 'əhmədli', 1113: 'əhvalım', 1114: 'əksik', 1115: 'əl', 1116: 'əlil', 1117: 'əllər', 1118: 'əllərim', 1119: 'əmi', 1120: 'əmək', 1121: 'əməliyyat', 1122: 'ərazi', 1123: 'ərinmək', 1124: 'ərizə', 1125: 'ərzaq', 1126: 'əsl', 1127: 'əsəbidir', 1128: 'əsəbiləşmək', 1129: 'əsər', 1130: 'ət', 1131: 'ətir', 1132: 'ətraflı', 1133: 'əvvəl', 1134: 'əylənmək', 1135: 'əyləşmək', 1136: 'əşyalar'}\n"
          ]
        }
      ],
      "source": [
        "train_set_size = 500\n",
        "\n",
        "# read cvs file\n",
        "sentences = pd.read_csv(config.train_csv_path)\n",
        "sentences = sentences.iloc[:,:train_set_size]\n",
        "\n",
        "# unique words\n",
        "word_set = set(['SOS','EOS'])\n",
        "sentences.iloc[:,2].str.lower().str.split().apply(word_set.update)\n",
        "sorted_word_set = sorted(word_set)\n",
        "print('Unique words',sorted_word_set)\n",
        "\n",
        "# create word encoding\n",
        "encodings = { k:v for v,k in enumerate(sorted_word_set)}\n",
        "word_idx  = { v:k for k,v in encodings.items()}\n",
        "print('Word encodings',encodings)\n",
        "print('Words by index',word_idx)\n",
        "torch.save(encodings,config.drive_folder+'/jamal/encodings.dict')\n",
        "torch.save(word_idx,config.drive_folder+'/jamal/word_idx.dict')\n",
        "\n",
        "# converts a sentence with zero padded encoding list\n",
        "def get_sentence_encoded(sentence):\n",
        "    encoded = [encodings[key] for key in ('SOS '+sentence+' EOS').split()]\n",
        "    return  encoded + list([0]) * (config.max_words_in_sentence - len(encoded))\n",
        "\n",
        "if config.debug:\n",
        "  print(get_sentence_encoded('mən hansı sənəd vermək'))\n",
        "  print(get_sentence_encoded('mən bakı yaşamaq'))\n",
        "\n",
        "# generate (video file name, encoding list)\n",
        "df = pd.DataFrame(columns=[\"id\", \"video_file\",\"encoding\"])\n",
        "\n",
        "for index, row in sentences.iterrows():\n",
        "    id = int(row[0])\n",
        "    phrase = row[2].lower()\n",
        "    encoded = get_sentence_encoded(phrase)\n",
        "\n",
        "    # there is a grouping of videos in production.\n",
        "    pre_folder = '/'\n",
        "\n",
        "    dir = config.video_folder+'/'+config.camera_source +pre_folder+str(id)\n",
        "    # iterate over video folders\n",
        "    for filename in os.listdir(dir):\n",
        "        f = os.path.join(dir, filename)\n",
        "        # checking if it is a file\n",
        "        if os.path.isfile(f):\n",
        "            entry = pd.DataFrame.from_dict({\"id\": id, \"video_file\": f, \"encoding\": [encoded]})\n",
        "            df = pd.concat([df, entry], ignore_index = True)\n",
        "\n",
        "if config.debug:\n",
        "    print(df)"
      ]
    },
    {
      "cell_type": "markdown",
      "source": [
        "This is a sample code to visualize the frames (might be used for debugging and validation of the inference"
      ],
      "metadata": {
        "id": "bSPCZPbMSUCB"
      }
    },
    {
      "cell_type": "code",
      "execution_count": 9,
      "metadata": {
        "id": "WugbJbtaeYJb"
      },
      "outputs": [],
      "source": [
        "import math\n",
        "\n",
        "rows = int(math.sqrt(config.max_frames))\n",
        "cols = config.max_frames//rows\n",
        "\n",
        "def visualize_frames(frames):\n",
        "  fig, axes = plt.subplots(nrows=rows, ncols=cols, figsize=(20,20))\n",
        "\n",
        "  idx = 0\n",
        "  for i in range(rows):\n",
        "      for j in range(cols):\n",
        "        axes[i, j].imshow(frames[0,idx,:,:,:].permute(1,2,0).cpu())\n",
        "        idx += 1"
      ]
    },
    {
      "cell_type": "markdown",
      "metadata": {
        "id": "e2UWiRi5w5q8"
      },
      "source": [
        "TODO: Implement augmentation to the data"
      ]
    },
    {
      "cell_type": "code",
      "execution_count": 10,
      "metadata": {
        "id": "r2MWxh1UF1qm"
      },
      "outputs": [],
      "source": [
        "pip_install('pytorchvideo')"
      ]
    },
    {
      "cell_type": "code",
      "execution_count": 11,
      "metadata": {
        "colab": {
          "base_uri": "https://localhost:8080/"
        },
        "id": "PLf1Rri-QsIE",
        "outputId": "06e7df7b-bfe8-4a0d-97e5-eb1c45e36a7c"
      },
      "outputs": [
        {
          "output_type": "stream",
          "name": "stderr",
          "text": [
            "/usr/local/lib/python3.10/dist-packages/torchvision/transforms/functional_tensor.py:5: UserWarning: The torchvision.transforms.functional_tensor module is deprecated in 0.15 and will be **removed in 0.17**. Please don't rely on it. You probably just need to use APIs in torchvision.transforms.functional or in torchvision.transforms.v2.functional.\n",
            "  warnings.warn(\n",
            "/usr/local/lib/python3.10/dist-packages/torchvision/transforms/_functional_video.py:6: UserWarning: The 'torchvision.transforms._functional_video' module is deprecated since 0.12 and will be removed in the future. Please use the 'torchvision.transforms.functional' module instead.\n",
            "  warnings.warn(\n",
            "/usr/local/lib/python3.10/dist-packages/torchvision/transforms/_transforms_video.py:22: UserWarning: The 'torchvision.transforms._transforms_video' module is deprecated since 0.12 and will be removed in the future. Please use the 'torchvision.transforms' module instead.\n",
            "  warnings.warn(\n"
          ]
        }
      ],
      "source": [
        "from torchvision import transforms\n",
        "\n",
        "from pytorchvideo.transforms import (\n",
        "    ApplyTransformToKey,\n",
        "    Normalize,\n",
        "    RandomShortSideScale,\n",
        "    UniformTemporalSubsample,\n",
        "    Permute,\n",
        ")\n",
        "\n",
        "from torchvision.transforms import (\n",
        "    Compose,\n",
        "    Lambda,\n",
        "    RandomCrop,\n",
        "    CenterCrop,\n",
        "    RandomAdjustSharpness,\n",
        "    Resize,\n",
        "    ColorJitter,\n",
        "    RandomHorizontalFlip\n",
        ")\n",
        "\n",
        "from torchvision.transforms._transforms_video import (\n",
        "    CenterCropVideo,\n",
        "    NormalizeVideo\n",
        ")"
      ]
    },
    {
      "cell_type": "markdown",
      "source": [
        "As an option, it is possible to keep frames with hands. This might be helpful when there are many 'idle' frames in the beginning or end.\n",
        "\n",
        "The following code performs using the mediapipe's hand detection API. It might slow down the fetching process but if this step is necessary, then the data shall be saved first, and then loaded using a regular dataloader."
      ],
      "metadata": {
        "id": "qSMCeVPWSvFN"
      }
    },
    {
      "cell_type": "code",
      "source": [
        "def get_video_frames(video_path,video_transform):\n",
        "  video_data = None\n",
        "\n",
        "  if config.video_processing_tool == 'OpenCV':\n",
        "    video_data = cv2.VideoCapture(video_path)\n",
        "  elif config.video_processing_tool == 'VidGear':\n",
        "    video_data = CamGear(video_path).start()\n",
        "  elif config.video_processing_tool == 'TorchVision':\n",
        "    video_data, _, _ = torchvision.io.read_video(video_path, output_format=\"THWC\")\n",
        "\n",
        "  final_frames = video_data\n",
        "  if config.keep_hands_only:\n",
        "    final_frames = keep_frames_with_hands(video_data, crop_size=config.video_size).to(config.device)\n",
        "\n",
        "  if video_transform:\n",
        "    apply_trans = apply_video_transforms()\n",
        "    hands_only = apply_trans(final_frames)\n",
        "\n",
        "  if config.video_processing_tool == 'OpenCV':\n",
        "    video_data.release()\n",
        "  elif config.video_processing_tool == 'VidGear':\n",
        "    video_data.stop()\n",
        "  elif config.video_processing_tool == 'TorchVision':\n",
        "    pass\n",
        "\n",
        "\n",
        "  n,l,w,h = final_frames.shape\n",
        "\n",
        "  # When frames are more than we need but not that much (just trim it from the start and end)\n",
        "  if (n > config.max_frames) and (n < 2*config.max_frames):\n",
        "    left = (n-config.max_frames)//2\n",
        "    final_frames_new = final_frames[left:(n-left-1),:,:,:]\n",
        "  # If we have much more frames than we need\n",
        "  elif (n > config.max_frames):\n",
        "    # Cut 5 frames from start/end and then skip every n-th\n",
        "    slice_step = ((n-10)//config.max_frames+1)\n",
        "    final_frames_new = final_frames[5:(n-5):slice_step,:,:,:]\n",
        "  else:\n",
        "    final_frames_new = final_frames\n",
        "\n",
        "  n = final_frames_new.shape[0]\n",
        "\n",
        "  # If we have less frames than we need\n",
        "  if (n < config.max_frames):\n",
        "    # fill with the last frames (usually 1)\n",
        "    compliment_arr = hands_only[-(config.max_frames-n):,:,:,:]\n",
        "    final_frames_new = torch.cat((final_frames_new,compliment_arr),0)\n",
        "\n",
        "  return final_frames_new\n",
        "\n",
        "def tensor2list(mdim_tensor):\n",
        "  tensor_stack = []\n",
        "  for i in range(mdim_tensor.shape[0]):\n",
        "    tensor_stack.append(mdim_tensor[i])\n",
        "\n",
        "  return tensor_stack"
      ],
      "metadata": {
        "id": "ATF1mPUDISnG"
      },
      "execution_count": 12,
      "outputs": []
    },
    {
      "cell_type": "code",
      "execution_count": 13,
      "metadata": {
        "id": "Tj7JX4ZRTSf7"
      },
      "outputs": [],
      "source": [
        "import cv2\n",
        "import mediapipe as mp\n",
        "\n",
        "\n",
        "# keeps only informative frames\n",
        "def keep_frames_with_hands(video_data, crop_size: int = None,\n",
        "                           mp_min_detection_confidence: float = 0.8, mp_min_tracking_confidence: float = 0.9):\n",
        "\n",
        "  mpHands = mp.solutions.hands\n",
        "  hands = mpHands.Hands(static_image_mode=True, max_num_hands=2,\n",
        "                        min_detection_confidence=mp_min_detection_confidence, min_tracking_confidence=mp_min_tracking_confidence)\n",
        "\n",
        "  if crop_size:\n",
        "    video_arr = torch.zeros((0, 3, crop_size, crop_size)).to(config.device)\n",
        "    transform = Compose([\n",
        "      CenterCrop(crop_size),\n",
        "      ])\n",
        "  else:\n",
        "    video_arr = torch.zeros((0, 3, 960, 1280)).to(config.device)\n",
        "\n",
        "  ret = True\n",
        "  frame = None\n",
        "\n",
        "  for frame in video_data:\n",
        "    hand_results = hands.process(frame.numpy())\n",
        "\n",
        "    if hand_results.multi_hand_landmarks != None:\n",
        "      if crop_size:\n",
        "        frame_ext = torch.unsqueeze(transform(frame.permute(2, 0, 1)), dim=0).to(config.device)\n",
        "      else:\n",
        "        frame_ext = torch.unsqueeze(frame.permute(2, 0, 1), dim=0).to(config.device)\n",
        "\n",
        "      video_arr = torch.cat((video_arr, frame_ext/255.0),0)\n",
        "\n",
        "\n",
        "  return video_arr"
      ]
    },
    {
      "cell_type": "markdown",
      "source": [
        "The resize of the video frames done through the following transformations:"
      ],
      "metadata": {
        "id": "BylJ6ynbTbBU"
      }
    },
    {
      "cell_type": "code",
      "execution_count": 14,
      "metadata": {
        "id": "UMuLQaqQQxbv"
      },
      "outputs": [],
      "source": [
        "def apply_video_transforms(resize_size: int = config.video_size):\n",
        "    video_transform=Compose([\n",
        "        Resize(size=(resize_size, resize_size))\n",
        "    ])\n",
        "\n",
        "    return video_transform"
      ]
    },
    {
      "cell_type": "code",
      "execution_count": 15,
      "metadata": {
        "id": "dCKhH_5Zzt3D"
      },
      "outputs": [],
      "source": [
        "if config.video_processing_tool == 'VidGear':\n",
        "  from vidgear.gears import CamGear\n",
        "import torchvision\n",
        "from torchvision.models.feature_extraction import create_feature_extractor\n",
        "\n",
        "class SLDataset(Dataset):\n",
        "\n",
        "    def __init__(self, df, video_transform: bool = True):\n",
        "        # shuffle and save\n",
        "        self.df = sklearn.utils.shuffle(df)\n",
        "        self.video_transform = video_transform\n",
        "\n",
        "    def __getitem__(self, idx):\n",
        "        if config.debug:\n",
        "          print(f\"Got item at index: {idx}\")\n",
        "        video_path = df.iloc[idx,1]\n",
        "\n",
        "        encoding = torch.tensor(df.iloc[idx,2]).to(config.device)\n",
        "        enc_shape = encoding.shape[0]\n",
        "\n",
        "        if config.feature_type == 'i3d':\n",
        "          feature_dict = extractor.extract(f)\n",
        "\n",
        "          f_num, f_size = feature_dict['rgb'].shape\n",
        "          REQ_FEATS = 5 # required number of features\n",
        "\n",
        "          # Keep only REQ_FEATS features from each and apply zero padding if there are less than REQ_FEATS features\n",
        "          feats_rgb = torch.from_numpy(feature_dict['rgb'])\n",
        "          feats_flow = torch.from_numpy(feature_dict['flow'])\n",
        "\n",
        "          # Trim extra features.\n",
        "          # Trim shall be applied on each, since we need to have equal number of RGB and FLOW features.\n",
        "          # Like for RGB and FLOW, 8 features each will make 16 features if we apply catenation first.\n",
        "          # If we trimming after that to keep 10 features, eight of them will be about RGB, two - FLOW.\n",
        "          if f_num > REQ_FEATS:\n",
        "            feats_rgb  = feats_rgb[-(REQ_FEATS-f_num):,:]\n",
        "            feats_flow = feats_flow[-(REQ_FEATS-f_num):,:]\n",
        "\n",
        "          # Concatenate the features\n",
        "          feats = torch.cat((feats_rgb,feats_flow),1)\n",
        "\n",
        "          # Apply zero padding if needed.\n",
        "          # Zero padding needs to be done after the catenation - zero features shall come at the end, not after each type (RGB and FLOW)\n",
        "          if f_num < REQ_FEATS:\n",
        "            padarr = torch.zeros((REQ_FEATS-f_num,f_size*2))\n",
        "            feats = torch.cat((feats,padarr),0)\n",
        "        else:\n",
        "          frames = get_video_frames(f,self.video_transform)\n",
        "          if config.feature_type == 'no':\n",
        "            feats = frames\n",
        "          else:\n",
        "            feats = frame_to_feats(pretrained_model,frames)\n",
        "          print('feat shape:',feats.shape)\n",
        "\n",
        "        return feats, torch.reshape(encoding,(enc_shape,1)),video_path\n",
        "\n",
        "    def __len__(self):\n",
        "        return len(self.df)\n",
        "\n",
        "def get_dataloader(df, phase: str, batch_size: int = 96) -> DataLoader:\n",
        "    train_df, val_df = train_test_split(df, test_size=0.1, random_state=config.seed, stratify=df['id'])\n",
        "    train_df, val_df = train_df.reset_index(drop=True), val_df.reset_index(drop=True)\n",
        "    df = train_df if phase == 'train' else val_df\n",
        "    dataset = SLDataset(df, video_transform=True)\n",
        "    dataloader = DataLoader(dataset=dataset, batch_size=batch_size, num_workers=0, shuffle=True)\n",
        "    return dataloader\n",
        "\n",
        "\n",
        "dl = get_dataloader(df,'train',1)\n"
      ]
    },
    {
      "cell_type": "code",
      "execution_count": 16,
      "metadata": {
        "colab": {
          "base_uri": "https://localhost:8080/"
        },
        "id": "CgOLGv7gYYi5",
        "outputId": "18dad38b-77fc-4786-b66c-0d44a4ab2398"
      },
      "outputs": [
        {
          "output_type": "stream",
          "name": "stderr",
          "text": [
            "/usr/local/lib/python3.10/dist-packages/torchvision/io/video.py:161: UserWarning: The pts_unit 'pts' gives wrong results. Please use pts_unit 'sec'.\n",
            "  warnings.warn(\"The pts_unit 'pts' gives wrong results. Please use pts_unit 'sec'.\")\n",
            "/usr/local/lib/python3.10/dist-packages/torchvision/transforms/functional.py:1603: UserWarning: The default value of the antialias parameter of all the resizing transforms (Resize(), RandomResizedCrop(), etc.) will change from None to True in v0.17, in order to be consistent across the PIL and Tensor backends. To suppress this warning, directly pass antialias=True (recommended, future default), antialias=None (current default, which means False for Tensors and True for PIL), or antialias=False (only works on Tensors - PIL will still use antialiasing). This also applies if you are using the inference transforms from the models weights: update the call to weights.transforms(antialias=True).\n",
            "  warnings.warn(\n"
          ]
        },
        {
          "output_type": "stream",
          "name": "stdout",
          "text": [
            "Squeezenet shape torch.Size([64, 512, 37, 37])\n",
            "feat shape: torch.Size([64, 700928])\n",
            "Data fetching: 26.40261197090149 sec\n"
          ]
        }
      ],
      "source": [
        "import time\n",
        "\n",
        "measure = time.time()\n",
        "dl_next = next(iter(dl))\n",
        "print('Data fetching:',time.time() - measure,'sec')\n",
        "\n",
        "a,b,fname = dl_next\n",
        "\n",
        "if config.debug:\n",
        "  print(a.shape,b.shape,fname)"
      ]
    },
    {
      "cell_type": "markdown",
      "source": [
        "Fetch one and visualize"
      ],
      "metadata": {
        "id": "dnx546lvT1z3"
      }
    },
    {
      "cell_type": "code",
      "execution_count": 17,
      "metadata": {
        "colab": {
          "base_uri": "https://localhost:8080/"
        },
        "id": "EG3cfSx_U3Bd",
        "outputId": "116960a1-4ad9-46a8-90db-96a4a60c3ab1"
      },
      "outputs": [
        {
          "output_type": "stream",
          "name": "stdout",
          "text": [
            "torch.Size([1, 64, 700928]) torch.Size([1, 10, 1]) ('/content/drive/MyDrive/SLR/Data/Video/Cam2/342/2022-12-23 17-17-50.mp4',)\n"
          ]
        }
      ],
      "source": [
        "print(a.shape,b.shape,fname)\n",
        "if config.feature_type == 'no':\n",
        "  visualize_frames(a)\n",
        "\n",
        "# No: torch.Size([1, 64, 3, 600, 600]) torch.Size([1, 10, 1]) ('drive/MyDrive/SLR/Data/Video/Cam2/362/2022-12-22 16-32-52.mp4',)\n",
        "# i3d: torch.Size([1, 5, 2048]) torch.Size([1, 10, 1]) ('/content/drive/MyDrive/SLR/Data/Video/Cam2/315/2022-11-04 14-23-26.mp4',)\n",
        "# squeezenet: torch.Size([1, 64, 700928]) torch.Size([1, 10, 1]) ('/content/drive/MyDrive/SLR/Data/Video/Cam2/342/2022-12-23 17-17-50.mp4',)"
      ]
    }
  ],
  "metadata": {
    "accelerator": "GPU",
    "colab": {
      "machine_shape": "hm",
      "provenance": [],
      "gpuClass": "premium",
      "include_colab_link": true
    },
    "gpuClass": "premium",
    "kernelspec": {
      "display_name": "Python 3",
      "name": "python3"
    },
    "language_info": {
      "name": "python"
    }
  },
  "nbformat": 4,
  "nbformat_minor": 0
}